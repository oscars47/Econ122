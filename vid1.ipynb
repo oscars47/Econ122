{
 "cells": [
  {
   "cell_type": "code",
   "execution_count": 142,
   "metadata": {},
   "outputs": [],
   "source": [
    "import pyreadstat  \n",
    "import pandas as pd\n",
    "import numpy as np  \n",
    "import statsmodels.api as sm\n",
    "from helper import *\n",
    "dataframe, meta = pyreadstat.read_dta('morg79.dta')"
   ]
  },
  {
   "cell_type": "markdown",
   "metadata": {},
   "source": [
    "# Video 1"
   ]
  },
  {
   "cell_type": "code",
   "execution_count": 143,
   "metadata": {},
   "outputs": [
    {
     "data": {
      "text/plain": [
       "0         2\n",
       "1         1\n",
       "2         2\n",
       "3         1\n",
       "4         1\n",
       "         ..\n",
       "328401    2\n",
       "328402    1\n",
       "328403    1\n",
       "328404    2\n",
       "328405    1\n",
       "Name: gradecp, Length: 328406, dtype: int64"
      ]
     },
     "execution_count": 143,
     "metadata": {},
     "output_type": "execute_result"
    }
   ],
   "source": [
    "dataframe['gradecp']"
   ]
  },
  {
   "cell_type": "code",
   "execution_count": 144,
   "metadata": {},
   "outputs": [
    {
     "data": {
      "text/plain": [
       "Index(['minsamp', 'intmonth', 'hhid', 'state', 'smsarank', 'hhnum', 'activlwr',\n",
       "       'hourslw', 'reasonlw', 'absentlw', 'classer', 'ind70', 'occ70',\n",
       "       'lineno', 'relahh', 'age', 'marital', 'race', 'sex', 'veteran',\n",
       "       'gradeat', 'gradecp', 'esr', 'weight', 'smsastat', 'centcity', 'ethnic',\n",
       "       'ptstat', 'ftpt79', 'docc70', 'doinglw', 'hourslwa', 'uhours35',\n",
       "       'why35lw', 'class', 'uhours', 'paidhr', 'earnhr', 'uearnwk', 'earnwt',\n",
       "       'eligible', 'uhourse', 'paidhre', 'earnhre', 'earnwke', 'I25a', 'I25b',\n",
       "       'I25c', 'I25d', 'uearnwke', 'year', 'smsa70', 'dind'],\n",
       "      dtype='object')"
      ]
     },
     "execution_count": 144,
     "metadata": {},
     "output_type": "execute_result"
    }
   ],
   "source": [
    "dataframe.columns"
   ]
  },
  {
   "cell_type": "code",
   "execution_count": 145,
   "metadata": {},
   "outputs": [
    {
     "data": {
      "text/plain": [
       "0          40\n",
       "1          40\n",
       "2         NaN\n",
       "3         NaN\n",
       "4          40\n",
       "         ... \n",
       "328401    NaN\n",
       "328402     40\n",
       "328403    NaN\n",
       "328404    NaN\n",
       "328405    NaN\n",
       "Name: uhours, Length: 328406, dtype: object"
      ]
     },
     "execution_count": 145,
     "metadata": {},
     "output_type": "execute_result"
    }
   ],
   "source": [
    "dataframe['uhours']"
   ]
  },
  {
   "cell_type": "code",
   "execution_count": 146,
   "metadata": {},
   "outputs": [],
   "source": [
    "# remove all NaN values and 0 for the uhours column\n",
    "dataframe = dataframe.dropna(subset=['uhours'])\n",
    "dataframe = dataframe.dropna(subset=['earnwke'])\n",
    "dataframe = dataframe[dataframe['uhours'] != 0]\n",
    "dataframe = dataframe[dataframe['uhours'] != 0]\n",
    "# make sure to compare the right row entries so the division makes sense\n",
    "dataframe['hrwage'] = dataframe['earnwke'] / dataframe['uhours']"
   ]
  },
  {
   "cell_type": "code",
   "execution_count": 147,
   "metadata": {},
   "outputs": [
    {
     "name": "stdout",
     "output_type": "stream",
     "text": [
      "Num observations:  167565\n",
      "Mean:  6.098992663916908\n",
      "Median:  5.0\n",
      "Standard Deviation:  4.266460415857638\n",
      "Variance:  18.202684480080126\n",
      "25th percentile:  3.5\n",
      "50th percentile:  5.0\n",
      "75th percentile:  7.514285714285714\n",
      "Skewness:  21.070557491609996\n",
      "Kurtosis:  1686.5797055425337\n",
      "Min:  0.03333333333333333\n",
      "Max:  500.0\n"
     ]
    }
   ],
   "source": [
    "summarize(dataframe['hrwage'])"
   ]
  },
  {
   "cell_type": "code",
   "execution_count": 148,
   "metadata": {},
   "outputs": [
    {
     "data": {
      "text/plain": [
       "0         1\n",
       "1         1\n",
       "4         1\n",
       "6         1\n",
       "7         1\n",
       "         ..\n",
       "328388    1\n",
       "328389    1\n",
       "328390    1\n",
       "328391    1\n",
       "328402    3\n",
       "Name: race, Length: 167565, dtype: int64"
      ]
     },
     "execution_count": 148,
     "metadata": {},
     "output_type": "execute_result"
    }
   ],
   "source": [
    "dataframe['race']"
   ]
  },
  {
   "cell_type": "code",
   "execution_count": 149,
   "metadata": {},
   "outputs": [],
   "source": [
    "# look at race, where race is 1 for white\n",
    "# sum the values with race == 1\n",
    "white = dataframe['race'].values == 1\n",
    "black = dataframe['race'].values == 2\n",
    "hispanic = dataframe['race'].values == 3"
   ]
  },
  {
   "cell_type": "code",
   "execution_count": 150,
   "metadata": {},
   "outputs": [
    {
     "data": {
      "text/plain": [
       "4459"
      ]
     },
     "execution_count": 150,
     "metadata": {},
     "output_type": "execute_result"
    }
   ],
   "source": [
    "hispanic.sum()"
   ]
  },
  {
   "cell_type": "code",
   "execution_count": 151,
   "metadata": {},
   "outputs": [],
   "source": [
    "hrearnwt = dataframe['earnwt'] * dataframe['uhours']\n",
    "dataframe['hrearnwt'] = hrearnwt"
   ]
  },
  {
   "cell_type": "code",
   "execution_count": 152,
   "metadata": {},
   "outputs": [
    {
     "name": "stdout",
     "output_type": "stream",
     "text": [
      "Num observations:  167565\n",
      "Mean:  233780.32185387824\n",
      "Median:  251810.8037109375\n",
      "Standard Deviation:  117174.66850211626\n",
      "Variance:  13729902938.580835\n",
      "25th percentile:  146587.1953125\n",
      "50th percentile:  251810.8037109375\n",
      "75th percentile:  299838.80859375\n",
      "Skewness:  0.7797426670293288\n",
      "Kurtosis:  5.5944302269080755\n",
      "Min:  441.19998931884766\n",
      "Max:  2302304.4140625\n"
     ]
    }
   ],
   "source": [
    "summarize(hrearnwt)"
   ]
  },
  {
   "cell_type": "code",
   "execution_count": 153,
   "metadata": {},
   "outputs": [
    {
     "name": "stdout",
     "output_type": "stream",
     "text": [
      "Num observations:  148095\n",
      "Mean:  6.1905374465650596\n",
      "Median:  5.2\n",
      "Standard Deviation:  4.1525473329644775\n",
      "Variance:  17.2436493525104\n",
      "25th percentile:  3.525\n",
      "50th percentile:  5.2\n",
      "75th percentile:  7.75\n",
      "Skewness:  13.520667666961137\n",
      "Kurtosis:  740.1086620875421\n",
      "Min:  0.03333333333333333\n",
      "Max:  369.0\n"
     ]
    }
   ],
   "source": [
    "# look at distribution of hrearnwt for white, black, and hispanic\n",
    "summarize(dataframe['hrwage'][white])"
   ]
  },
  {
   "cell_type": "code",
   "execution_count": 154,
   "metadata": {},
   "outputs": [
    {
     "name": "stdout",
     "output_type": "stream",
     "text": [
      "Num observations:  15011\n",
      "Mean:  5.220620553434161\n",
      "Median:  4.375\n",
      "Standard Deviation:  5.2928734593595\n",
      "Variance:  28.0145094567922\n",
      "25th percentile:  3.1096096096096097\n",
      "50th percentile:  4.375\n",
      "75th percentile:  6.294736842105263\n",
      "Skewness:  58.61353857885214\n",
      "Kurtosis:  5215.76191945734\n",
      "Min:  0.23333333333333334\n",
      "Max:  500.0\n"
     ]
    }
   ],
   "source": [
    "summarize(dataframe['hrwage'][black])"
   ]
  },
  {
   "cell_type": "code",
   "execution_count": 155,
   "metadata": {},
   "outputs": [
    {
     "name": "stdout",
     "output_type": "stream",
     "text": [
      "Num observations:  4459\n",
      "Mean:  6.015547757919675\n",
      "Median:  5.0\n",
      "Standard Deviation:  3.761691125157011\n",
      "Variance:  14.150320121085018\n",
      "25th percentile:  3.5\n",
      "50th percentile:  5.0\n",
      "75th percentile:  7.5\n",
      "Skewness:  3.4326062830296764\n",
      "Kurtosis:  33.544705861690744\n",
      "Min:  0.23333333333333334\n",
      "Max:  74.0\n"
     ]
    }
   ],
   "source": [
    "summarize(dataframe['hrwage'][hispanic])"
   ]
  },
  {
   "cell_type": "code",
   "execution_count": 156,
   "metadata": {},
   "outputs": [],
   "source": [
    "# get sex\n",
    "male = dataframe['sex']==1\n",
    "female = dataframe['sex']==2"
   ]
  },
  {
   "cell_type": "code",
   "execution_count": 157,
   "metadata": {},
   "outputs": [
    {
     "name": "stdout",
     "output_type": "stream",
     "text": [
      "Num observations:  83781\n",
      "Mean:  7.295179263927489\n",
      "Median:  6.555555555555555\n",
      "Standard Deviation:  4.51645764087981\n",
      "Variance:  20.398389621861618\n",
      "25th percentile:  4.5\n",
      "50th percentile:  6.555555555555555\n",
      "75th percentile:  9.0\n",
      "Skewness:  13.952536799682152\n",
      "Kurtosis:  780.6198066010592\n",
      "Min:  0.03333333333333333\n",
      "Max:  369.0\n"
     ]
    }
   ],
   "source": [
    "# male and white\n",
    "summarize(dataframe['hrwage'][white & male])"
   ]
  },
  {
   "cell_type": "code",
   "execution_count": 158,
   "metadata": {},
   "outputs": [
    {
     "data": {
      "text/plain": [
       "0         True\n",
       "1         True\n",
       "4         True\n",
       "6         True\n",
       "7         True\n",
       "          ... \n",
       "328388    True\n",
       "328389    True\n",
       "328390    True\n",
       "328391    True\n",
       "328402    True\n",
       "Name: esr, Length: 167565, dtype: bool"
      ]
     },
     "execution_count": 158,
     "metadata": {},
     "output_type": "execute_result"
    }
   ],
   "source": [
    "dataframe['esr']==1"
   ]
  },
  {
   "cell_type": "code",
   "execution_count": 159,
   "metadata": {},
   "outputs": [
    {
     "name": "stdout",
     "output_type": "stream",
     "text": [
      "Num observations:  83781\n",
      "Weighted Mean:  7.364672538755782\n",
      "Median:  6.555555555555555\n",
      "Weighted Standard Deviation:  3.8032694522271666\n",
      "Weighted Variance:  14.464858526244331\n",
      "25th percentile:  4.5\n",
      "50th percentile:  6.555555555555555\n",
      "75th percentile:  9.0\n",
      "Skewness:  13.952536799682152\n",
      "Kurtosis:  780.6198066010592\n",
      "Min:  0.03333333333333333\n",
      "Max:  369.0\n"
     ]
    }
   ],
   "source": [
    "condition = white & male \n",
    "summarize(dataframe['hrwage'][condition ], weight=dataframe['hrearnwt'][condition])"
   ]
  },
  {
   "cell_type": "code",
   "execution_count": 160,
   "metadata": {},
   "outputs": [
    {
     "name": "stdout",
     "output_type": "stream",
     "text": [
      "Num observations:  167565\n",
      "Mean:  1.0580192761018112\n",
      "Median:  1.0\n",
      "Standard Deviation:  0.23378059343028038\n",
      "Variance:  0.054653365864614056\n",
      "25th percentile:  1.0\n",
      "50th percentile:  1.0\n",
      "75th percentile:  1.0\n",
      "Skewness:  3.781203502057148\n",
      "Kurtosis:  12.297646704439746\n",
      "Min:  1\n",
      "Max:  2\n"
     ]
    }
   ],
   "source": [
    "summarize(dataframe['esr'])"
   ]
  },
  {
   "cell_type": "code",
   "execution_count": 161,
   "metadata": {},
   "outputs": [],
   "source": [
    "# replace values < 2$ per hour with NaN\n",
    "dataframe.loc[dataframe['hrwage'] < 2, 'hrwage'] = np.nan"
   ]
  },
  {
   "cell_type": "code",
   "execution_count": 162,
   "metadata": {},
   "outputs": [
    {
     "data": {
      "text/plain": [
       "Index(['minsamp', 'intmonth', 'hhid', 'state', 'smsarank', 'hhnum', 'activlwr',\n",
       "       'hourslw', 'reasonlw', 'absentlw', 'classer', 'ind70', 'occ70',\n",
       "       'lineno', 'relahh', 'age', 'marital', 'race', 'sex', 'veteran',\n",
       "       'gradeat', 'gradecp', 'esr', 'weight', 'smsastat', 'centcity', 'ethnic',\n",
       "       'ptstat', 'ftpt79', 'docc70', 'doinglw', 'hourslwa', 'uhours35',\n",
       "       'why35lw', 'class', 'uhours', 'paidhr', 'earnhr', 'uearnwk', 'earnwt',\n",
       "       'eligible', 'uhourse', 'paidhre', 'earnhre', 'earnwke', 'I25a', 'I25b',\n",
       "       'I25c', 'I25d', 'uearnwke', 'year', 'smsa70', 'dind', 'hrwage',\n",
       "       'hrearnwt'],\n",
       "      dtype='object')"
      ]
     },
     "execution_count": 162,
     "metadata": {},
     "output_type": "execute_result"
    }
   ],
   "source": [
    "dataframe.columns"
   ]
  },
  {
   "cell_type": "code",
   "execution_count": 163,
   "metadata": {},
   "outputs": [
    {
     "name": "stdout",
     "output_type": "stream",
     "text": [
      "Num observations:  167565\n",
      "Mean:  1.2141676364395906\n",
      "Median:  1.0\n",
      "Standard Deviation:  0.41024488337209725\n",
      "Variance:  0.1683008643329857\n",
      "25th percentile:  1.0\n",
      "50th percentile:  1.0\n",
      "75th percentile:  1.0\n",
      "Skewness:  1.393488556646848\n",
      "Kurtosis:  -0.05819033717721922\n",
      "Min:  1\n",
      "Max:  2\n"
     ]
    }
   ],
   "source": [
    "summarize(dataframe['gradecp'])"
   ]
  },
  {
   "cell_type": "code",
   "execution_count": 164,
   "metadata": {},
   "outputs": [
    {
     "name": "stdout",
     "output_type": "stream",
     "text": [
      "Num observations:  167565\n",
      "Mean:  12.43587861426909\n",
      "Median:  12.0\n",
      "Standard Deviation:  2.813188343559732\n",
      "Variance:  7.914028656340349\n",
      "25th percentile:  12.0\n",
      "50th percentile:  12.0\n",
      "75th percentile:  14.0\n",
      "Skewness:  -0.45452390389718256\n",
      "Kurtosis:  1.5934761522954393\n",
      "Min:  0\n",
      "Max:  18\n"
     ]
    }
   ],
   "source": [
    "edyears = dataframe['gradeat']\n",
    "# if gradecp==2, then subtract 1 from edyears\n",
    "edyears = np.where(dataframe['gradecp']==2, edyears-1, edyears)\n",
    "# if < 0, then set to 0\n",
    "edyears = np.where(edyears < 0, 0, edyears)\n",
    "dataframe['edyears'] = edyears\n",
    "summarize(edyears)"
   ]
  },
  {
   "cell_type": "code",
   "execution_count": 165,
   "metadata": {},
   "outputs": [
    {
     "name": "stdout",
     "output_type": "stream",
     "text": [
      "Num observations:  167565\n",
      "Mean:  18.007644794557336\n",
      "Median:  15.0\n",
      "Standard Deviation:  14.517285036022871\n",
      "Variance:  210.75156481713358\n",
      "25th percentile:  5.0\n",
      "50th percentile:  15.0\n",
      "75th percentile:  29.0\n",
      "Skewness:  0.632317091622861\n",
      "Kurtosis:  -0.5653835184926255\n",
      "Min:  0\n",
      "Max:  87\n"
     ]
    }
   ],
   "source": [
    "# get potential experience\n",
    "potexp = dataframe['age'] - edyears - 6\n",
    "# if potexp < 0, set to 0\n",
    "potexp = np.where(potexp < 0, 0, potexp)\n",
    "# add to dataframe\n",
    "dataframe['potexp'] = potexp\n",
    "summarize(potexp)"
   ]
  },
  {
   "cell_type": "code",
   "execution_count": 166,
   "metadata": {},
   "outputs": [],
   "source": [
    "potexp2 = potexp**2\n",
    "dataframe['potexp2'] = potexp2"
   ]
  },
  {
   "cell_type": "code",
   "execution_count": 167,
   "metadata": {},
   "outputs": [
    {
     "name": "stdout",
     "output_type": "stream",
     "text": [
      "Num observations:  13327\n",
      "Mean:  6.006270829270184\n",
      "Median:  5.0\n",
      "Standard Deviation:  3.9798656764440903\n",
      "Variance:  15.839330802537775\n",
      "25th percentile:  3.5\n",
      "50th percentile:  5.0\n",
      "75th percentile:  7.5\n",
      "Skewness:  9.509127446103788\n",
      "Kurtosis:  270.2898206309136\n",
      "Min:  2.0\n",
      "Max:  150.0\n"
     ]
    }
   ],
   "source": [
    "# hrwage if january and working\n",
    "summarize(dataframe['hrwage'][dataframe['esr']==1 & (dataframe['intmonth']==1)])"
   ]
  },
  {
   "cell_type": "code",
   "execution_count": 168,
   "metadata": {},
   "outputs": [
    {
     "name": "stdout",
     "output_type": "stream",
     "text": [
      "Num observations:  13971\n",
      "Mean:  6.400493990752086\n",
      "Median:  5.35\n",
      "Standard Deviation:  4.050269910019446\n",
      "Variance:  16.40468634400893\n",
      "25th percentile:  3.75\n",
      "50th percentile:  5.35\n",
      "75th percentile:  8.0\n",
      "Skewness:  10.107670614203371\n",
      "Kurtosis:  397.68327048529085\n",
      "Min:  2.0\n",
      "Max:  200.0\n"
     ]
    }
   ],
   "source": [
    "# hrwage if january and working\n",
    "summarize(dataframe['hrwage'][dataframe['esr']==1 & (dataframe['intmonth']==12)])"
   ]
  },
  {
   "cell_type": "code",
   "execution_count": 169,
   "metadata": {},
   "outputs": [
    {
     "name": "stdout",
     "output_type": "stream",
     "text": [
      "Num observations:  167565\n",
      "Mean:  17.637541352577802\n",
      "Median:  14.79114897645249\n",
      "Standard Deviation:  12.070981730217532\n",
      "Variance:  145.70859993124546\n",
      "25th percentile:  10.287783599901237\n",
      "50th percentile:  14.79114897645249\n",
      "75th percentile:  21.947271679789306\n",
      "Skewness:  20.96362617107457\n",
      "Kurtosis:  1620.3729905674757\n",
      "Min:  5.486817919947327\n",
      "Max:  1371.7044799868315\n"
     ]
    }
   ],
   "source": [
    "# inflation adjustment\n",
    "# use bea.gov\n",
    "# note, 2012 dollars = 100\n",
    "# for 1979, 33.804\t34.728\t35.590\t36.451\n",
    "\n",
    "realhrwage = dataframe['hrwage'] \n",
    "# if month between 1 and 3, then multiply by 100/33.804\n",
    "realhrwage = np.where(dataframe['intmonth'] <= 3, realhrwage * 100/33.804, realhrwage)\n",
    "# if month between 4 and 6, then multiply by 100/34.728\n",
    "realhrwage = np.where((dataframe['intmonth'] > 3) & (dataframe['intmonth'] <= 6), realhrwage * 100/34.728, realhrwage)\n",
    "# if month between 7 and 9, then multiply by 100/35.590\n",
    "realhrwage = np.where((dataframe['intmonth'] > 6) & (dataframe['intmonth'] <= 9), realhrwage * 100/35.590, realhrwage)\n",
    "# if month between 10 and 12, then multiply by 100/36.451\n",
    "realhrwage = np.where((dataframe['intmonth'] > 9) & (dataframe['intmonth'] <= 12), realhrwage * 100/36.451, realhrwage)\n",
    "dataframe['realhrwage'] = realhrwage\n",
    "# remove values < 2 and > 250\n",
    "dataframe.loc[dataframe['realhrwage'] < 2, 'realhrwage'] = np.nan\n",
    "dataframe.loc[dataframe['realhrwage'] > 250, 'realhrwage'] = np.nan\n",
    "summarize(realhrwage)"
   ]
  },
  {
   "cell_type": "code",
   "execution_count": 170,
   "metadata": {},
   "outputs": [
    {
     "name": "stdout",
     "output_type": "stream",
     "text": [
      "Num observations:  167565\n",
      "Mean:  6.199488560424233\n",
      "Median:  5.15\n",
      "Standard Deviation:  4.253624405209862\n",
      "Variance:  18.093320580596956\n",
      "25th percentile:  3.6\n",
      "50th percentile:  5.15\n",
      "75th percentile:  7.656493506493507\n",
      "Skewness:  21.66955662890217\n",
      "Kurtosis:  1741.0264243623174\n",
      "Min:  2.0\n",
      "Max:  500.0\n"
     ]
    }
   ],
   "source": [
    "summarize(dataframe['hrwage'])"
   ]
  },
  {
   "cell_type": "code",
   "execution_count": 171,
   "metadata": {},
   "outputs": [
    {
     "name": "stdout",
     "output_type": "stream",
     "text": [
      "Num observations:  167565\n",
      "Mean:  2.7373189716718036\n",
      "Median:  2.694028959739956\n",
      "Standard Deviation:  0.49113434037747017\n",
      "Variance:  0.24121294029801274\n",
      "25th percentile:  2.3309571330498224\n",
      "50th percentile:  2.694028959739956\n",
      "75th percentile:  3.088642834747339\n",
      "Skewness:  0.4548798600152436\n",
      "Kurtosis:  -0.1659015167955582\n",
      "Min:  1.7023484736274483\n",
      "Max:  5.480840086431072\n"
     ]
    }
   ],
   "source": [
    "lrealhrwage = np.log(dataframe['realhrwage'].to_numpy().astype(float))\n",
    "dataframe['lrealhrwage'] = lrealhrwage\n",
    "summarize(lrealhrwage)"
   ]
  },
  {
   "cell_type": "markdown",
   "metadata": {},
   "source": [
    "## regression!"
   ]
  },
  {
   "cell_type": "code",
   "execution_count": 172,
   "metadata": {},
   "outputs": [
    {
     "data": {
      "text/plain": [
       "Index(['minsamp', 'intmonth', 'hhid', 'state', 'smsarank', 'hhnum', 'activlwr',\n",
       "       'hourslw', 'reasonlw', 'absentlw', 'classer', 'ind70', 'occ70',\n",
       "       'lineno', 'relahh', 'age', 'marital', 'race', 'sex', 'veteran',\n",
       "       'gradeat', 'gradecp', 'esr', 'weight', 'smsastat', 'centcity', 'ethnic',\n",
       "       'ptstat', 'ftpt79', 'docc70', 'doinglw', 'hourslwa', 'uhours35',\n",
       "       'why35lw', 'class', 'uhours', 'paidhr', 'earnhr', 'uearnwk', 'earnwt',\n",
       "       'eligible', 'uhourse', 'paidhre', 'earnhre', 'earnwke', 'I25a', 'I25b',\n",
       "       'I25c', 'I25d', 'uearnwke', 'year', 'smsa70', 'dind', 'hrwage',\n",
       "       'hrearnwt', 'edyears', 'potexp', 'potexp2', 'realhrwage',\n",
       "       'lrealhrwage'],\n",
       "      dtype='object')"
      ]
     },
     "execution_count": 172,
     "metadata": {},
     "output_type": "execute_result"
    }
   ],
   "source": [
    "dataframe.columns"
   ]
  },
  {
   "cell_type": "code",
   "execution_count": 173,
   "metadata": {},
   "outputs": [],
   "source": [
    "# want to regress lhrwage, edyears, potexp, potexp2, weighted by hrearnwt if white and not hispanic and working and male\n",
    "condition = (dataframe['race'] == 1)  & (dataframe['esr'] == 1) & (dataframe['sex'] == 1)\n",
    "# make sure no NaN values\n",
    "condition = condition & (~np.isnan(lrealhrwage))\n",
    "y = lrealhrwage[condition]\n",
    "X = dataframe[['edyears', 'potexp', 'potexp2']][condition]\n",
    "# make sure all are type float\n",
    "y = y.astype(float)\n",
    "X = X.astype(float)\n",
    "w = dataframe['hrearnwt'][condition]\n",
    "w = w.astype(float)"
   ]
  },
  {
   "cell_type": "code",
   "execution_count": 196,
   "metadata": {},
   "outputs": [],
   "source": [
    "from importlib import reload\n",
    "import helper\n",
    "reload(helper)\n",
    "from helper import run_WLS, summarize"
   ]
  },
  {
   "cell_type": "code",
   "execution_count": 192,
   "metadata": {},
   "outputs": [
    {
     "name": "stdout",
     "output_type": "stream",
     "text": [
      "                            WLS Regression Results                            \n",
      "==============================================================================\n",
      "Dep. Variable:                      y   R-squared:                       0.294\n",
      "Model:                            WLS   Adj. R-squared:                  0.294\n",
      "Method:                 Least Squares   F-statistic:                     8248.\n",
      "Date:                Mon, 05 Feb 2024   Prob (F-statistic):               0.00\n",
      "Time:                        15:55:06   Log-Likelihood:                -45709.\n",
      "No. Observations:               78568   AIC:                         9.143e+04\n",
      "Df Residuals:                   78564   BIC:                         9.146e+04\n",
      "Df Model:                           3                                         \n",
      "Covariance Type:                  HC1                                         \n",
      "==============================================================================\n",
      "                 coef    std err          t      P>|t|      [0.025      0.975]\n",
      "------------------------------------------------------------------------------\n",
      "const          1.7521      0.009    204.529      0.000       1.735       1.769\n",
      "edyears        0.0611      0.001     97.785      0.000       0.060       0.062\n",
      "potexp         0.0422      0.000    106.678      0.000       0.041       0.043\n",
      "potexp2       -0.0007   8.93e-06    -77.180      0.000      -0.001      -0.001\n",
      "==============================================================================\n",
      "Omnibus:                     2424.937   Durbin-Watson:                   1.792\n",
      "Prob(Omnibus):                  0.000   Jarque-Bera (JB):             5543.813\n",
      "Skew:                          -0.166   Prob(JB):                         0.00\n",
      "Kurtosis:                       4.259   Cond. No.                     4.29e+03\n",
      "==============================================================================\n",
      "\n",
      "Notes:\n",
      "[1] Standard Errors are heteroscedasticity robust (HC1)\n",
      "[2] The condition number is large, 4.29e+03. This might indicate that there are\n",
      "strong multicollinearity or other numerical problems.\n"
     ]
    }
   ],
   "source": [
    "run_WLS(X, y, w)"
   ]
  },
  {
   "cell_type": "code",
   "execution_count": 244,
   "metadata": {},
   "outputs": [],
   "source": [
    "# again, but use black men\n",
    "# want to regress lhrwage, edyears, potexp, potexp2, weighted by hrearnwt if white and not hispanic and working and male\n",
    "condition = (dataframe['race'] == 2)  & (dataframe['esr'] == 1) & (dataframe['sex'] == 1)\n",
    "# make sure no NaN values\n",
    "condition = condition & (~np.isnan(lrealhrwage))\n",
    "y = lrealhrwage[condition]\n",
    "X = dataframe[['edyears', 'potexp', 'potexp2']][condition]\n",
    "# make sure all are type float\n",
    "y = y.astype(float)\n",
    "X = X.astype(float)\n",
    "w = dataframe['hrearnwt'][condition]\n",
    "w = w.astype(float)"
   ]
  },
  {
   "cell_type": "code",
   "execution_count": 245,
   "metadata": {},
   "outputs": [
    {
     "name": "stdout",
     "output_type": "stream",
     "text": [
      "                            WLS Regression Results                            \n",
      "==============================================================================\n",
      "Dep. Variable:                      y   R-squared:                       0.210\n",
      "Model:                            WLS   Adj. R-squared:                  0.209\n",
      "Method:                 Least Squares   F-statistic:                     529.9\n",
      "Date:                Mon, 05 Feb 2024   Prob (F-statistic):          1.30e-309\n",
      "Time:                        16:15:54   Log-Likelihood:                -3762.3\n",
      "No. Observations:                6831   AIC:                             7533.\n",
      "Df Residuals:                    6827   BIC:                             7560.\n",
      "Df Model:                           3                                         \n",
      "Covariance Type:                  HC1                                         \n",
      "==============================================================================\n",
      "                 coef    std err          t      P>|t|      [0.025      0.975]\n",
      "------------------------------------------------------------------------------\n",
      "const          1.7238      0.027     63.364      0.000       1.670       1.777\n",
      "edyears        0.0597      0.002     28.823      0.000       0.056       0.064\n",
      "potexp         0.0290      0.001     26.163      0.000       0.027       0.031\n",
      "potexp2       -0.0004   2.29e-05    -18.156      0.000      -0.000      -0.000\n",
      "==============================================================================\n",
      "Omnibus:                      155.592   Durbin-Watson:                   1.793\n",
      "Prob(Omnibus):                  0.000   Jarque-Bera (JB):              255.717\n",
      "Skew:                           0.211   Prob(JB):                     2.96e-56\n",
      "Kurtosis:                       3.849   Cond. No.                     4.83e+03\n",
      "==============================================================================\n",
      "\n",
      "Notes:\n",
      "[1] Standard Errors are heteroscedasticity robust (HC1)\n",
      "[2] The condition number is large, 4.83e+03. This might indicate that there are\n",
      "strong multicollinearity or other numerical problems.\n"
     ]
    }
   ],
   "source": [
    "run_WLS(X, y, w)"
   ]
  },
  {
   "cell_type": "code",
   "execution_count": 197,
   "metadata": {},
   "outputs": [
    {
     "name": "stdout",
     "output_type": "stream",
     "text": [
      "Num observations:  167565\n",
      "Weighted Mean:  0.6042783800653752\n",
      "Weighted Standard Deviation:  0.48900513233599213\n",
      "Weighted Variance:  0.23912601945094117\n",
      "25th percentile:  0.0\n",
      "50th percentile:  1.0\n",
      "75th percentile:  1.0\n",
      "Skewness:  -0.23486364849810273\n",
      "Kurtosis:  -1.9448622799846824\n",
      "Min:  0.0\n",
      "Max:  1.0\n"
     ]
    }
   ],
   "source": [
    "summarize(dataframe['sex']==1, weight=dataframe['hrearnwt'])"
   ]
  },
  {
   "cell_type": "code",
   "execution_count": 198,
   "metadata": {},
   "outputs": [
    {
     "name": "stdout",
     "output_type": "stream",
     "text": [
      "Num observations:  167565\n",
      "Weighted Mean:  0.3957216199346248\n",
      "Weighted Standard Deviation:  0.48900513233599213\n",
      "Weighted Variance:  0.23912601945094117\n",
      "25th percentile:  0.0\n",
      "50th percentile:  0.0\n",
      "75th percentile:  1.0\n",
      "Skewness:  0.2348636484981022\n",
      "Kurtosis:  -1.9448622799846829\n",
      "Min:  0.0\n",
      "Max:  1.0\n"
     ]
    }
   ],
   "source": [
    "summarize(dataframe['sex']==2, weight=dataframe['hrearnwt'])"
   ]
  },
  {
   "cell_type": "code",
   "execution_count": 200,
   "metadata": {},
   "outputs": [
    {
     "name": "stdout",
     "output_type": "stream",
     "text": [
      "Num observations:  167565\n",
      "Weighted Mean:  0.5647431938726633\n",
      "Weighted Standard Deviation:  0.4957905997970986\n",
      "Weighted Variance:  0.24580831884716678\n",
      "25th percentile:  0.0\n",
      "50th percentile:  1.0\n",
      "75th percentile:  1.0\n",
      "Skewness:  -0.23486364849810273\n",
      "Kurtosis:  -1.9448622799846824\n",
      "Min:  0.0\n",
      "Max:  1.0\n"
     ]
    }
   ],
   "source": [
    "summarize(dataframe['sex']==1, weight=dataframe['weight'])"
   ]
  },
  {
   "cell_type": "code",
   "execution_count": 201,
   "metadata": {},
   "outputs": [
    {
     "name": "stdout",
     "output_type": "stream",
     "text": [
      "Num observations:  167565\n",
      "Weighted Mean:  0.43525680612733675\n",
      "Weighted Standard Deviation:  0.4957905997970986\n",
      "Weighted Variance:  0.24580831884716678\n",
      "25th percentile:  0.0\n",
      "50th percentile:  0.0\n",
      "75th percentile:  1.0\n",
      "Skewness:  0.2348636484981022\n",
      "Kurtosis:  -1.9448622799846829\n",
      "Min:  0.0\n",
      "Max:  1.0\n"
     ]
    }
   ],
   "source": [
    "summarize(dataframe['sex']==2, weight=dataframe['weight'])"
   ]
  },
  {
   "cell_type": "markdown",
   "metadata": {},
   "source": [
    "# Video 2 -- Oaxaca"
   ]
  },
  {
   "cell_type": "code",
   "execution_count": 231,
   "metadata": {},
   "outputs": [],
   "source": [
    "from importlib import reload\n",
    "import helper\n",
    "reload(helper)\n",
    "from helper import summarize"
   ]
  },
  {
   "cell_type": "code",
   "execution_count": 232,
   "metadata": {},
   "outputs": [
    {
     "name": "stdout",
     "output_type": "stream",
     "text": [
      "Num observations:  167565\n",
      "Weighted Mean:  0.879793997136449\n",
      "Weighted Standard Deviation:  0.32520227511368816\n",
      "Weighted Variance:  0.10575651973911893\n",
      "1st percentile:  0.0\n",
      "5th percentile:  0.0\n",
      "10th percentile:  0.0\n",
      "25th percentile:  1.0\n",
      "50th percentile:  1.0\n",
      "75th percentile:  1.0\n",
      "90th percentile:  1.0\n",
      "95th percentile:  1.0\n",
      "99th percentile:  1.0\n",
      "Skewness:  -2.3953892803156043\n",
      "Kurtosis:  3.737934418848031\n",
      "Min:  0.0\n",
      "Max:  1.0\n"
     ]
    }
   ],
   "source": [
    "summarize(dataframe['race']==1, weight=dataframe['weight'])"
   ]
  },
  {
   "cell_type": "code",
   "execution_count": 233,
   "metadata": {},
   "outputs": [
    {
     "name": "stdout",
     "output_type": "stream",
     "text": [
      "Num observations:  167565\n",
      "Weighted Mean:  0.10181166529271284\n",
      "Weighted Standard Deviation:  0.30240047966734024\n",
      "Weighted Variance:  0.09144605010303745\n",
      "1st percentile:  0.0\n",
      "5th percentile:  0.0\n",
      "10th percentile:  0.0\n",
      "25th percentile:  0.0\n",
      "50th percentile:  0.0\n",
      "75th percentile:  0.0\n",
      "90th percentile:  0.0\n",
      "95th percentile:  1.0\n",
      "99th percentile:  1.0\n",
      "Skewness:  2.874258128238122\n",
      "Kurtosis:  6.2614345219963266\n",
      "Min:  0.0\n",
      "Max:  1.0\n"
     ]
    }
   ],
   "source": [
    "summarize(dataframe['race']==2, weight=dataframe['weight'])"
   ]
  },
  {
   "cell_type": "code",
   "execution_count": 234,
   "metadata": {},
   "outputs": [
    {
     "name": "stdout",
     "output_type": "stream",
     "text": [
      "Num observations:  164086\n",
      "Mean:  17.576591154407158\n",
      "Median:  14.79114897645249\n",
      "Standard Deviation:  10.293266115658863\n",
      "Variance:  105.95132732777088\n",
      "1st percentile:  6.447011055938108\n",
      "5th percentile:  8.058763819922635\n",
      "10th percentile:  8.429334082607474\n",
      "25th percentile:  10.287783599901237\n",
      "50th percentile:  14.79114897645249\n",
      "75th percentile:  21.947271679789306\n",
      "90th percentile:  29.58229795290498\n",
      "95th percentile:  35.99401059663672\n",
      "99th percentile:  54.813311020273794\n",
      "Skewness:  3.1179083939532886\n",
      "Kurtosis:  27.967125357348458\n",
      "Min:  5.486817919947327\n",
      "Max:  240.04828399769553\n"
     ]
    }
   ],
   "source": [
    "summarize(dataframe['realhrwage'])"
   ]
  },
  {
   "cell_type": "code",
   "execution_count": 238,
   "metadata": {},
   "outputs": [
    {
     "name": "stdout",
     "output_type": "stream",
     "text": [
      "Num observations:  61540\n",
      "Mean:  3.028746679256125\n",
      "Median:  3.0480085070082548\n",
      "Standard Deviation:  0.45060254696648155\n",
      "Variance:  0.2030426553326802\n",
      "1st percentile:  2.0327638890544177\n",
      "5th percentile:  2.2568809180881058\n",
      "10th percentile:  2.4244714112336667\n",
      "25th percentile:  2.7160078664587313\n",
      "50th percentile:  3.0480085070082548\n",
      "75th percentile:  3.319771151802933\n",
      "90th percentile:  3.5833525522990546\n",
      "95th percentile:  3.765674109093009\n",
      "99th percentile:  4.109293581945737\n",
      "Skewness:  0.02751180271187005\n",
      "Kurtosis:  0.10395236145023246\n",
      "Min:  1.7023484736274483\n",
      "Max:  5.466617681979737\n"
     ]
    }
   ],
   "source": [
    "condition = (dataframe['race'] == 1) & (dataframe['sex'] == 1) & (dataframe['esr'] == 1) & (dataframe['age'] >= 24) & (dataframe['age'] <= 65)\n",
    "summarize(dataframe['lrealhrwage'][condition])"
   ]
  },
  {
   "cell_type": "code",
   "execution_count": 262,
   "metadata": {},
   "outputs": [
    {
     "name": "stdout",
     "output_type": "stream",
     "text": [
      "edyears\n",
      "Num observations:  65144\n",
      "Weighted Mean:  12.80134001622942\n",
      "Weighted Standard Deviation:  3.0945890249742622\n",
      "Weighted Variance:  9.576481233491155\n",
      "1st percentile:  4.0\n",
      "5th percentile:  8.0\n",
      "10th percentile:  9.0\n",
      "25th percentile:  12.0\n",
      "50th percentile:  12.0\n",
      "75th percentile:  15.0\n",
      "90th percentile:  17.0\n",
      "95th percentile:  18.0\n",
      "99th percentile:  18.0\n",
      "Skewness:  -0.49730677262491146\n",
      "Kurtosis:  0.9161553232364086\n",
      "Min:  0.0\n",
      "Max:  18.0\n",
      "-----\n",
      "potexp\n",
      "Num observations:  65144\n",
      "Weighted Mean:  21.210349500842867\n",
      "Weighted Standard Deviation:  12.37403402971353\n",
      "Weighted Variance:  153.11671816850844\n",
      "1st percentile:  2.0\n",
      "5th percentile:  5.0\n",
      "10th percentile:  7.0\n",
      "25th percentile:  10.0\n",
      "50th percentile:  19.0\n",
      "75th percentile:  32.0\n",
      "90th percentile:  40.0\n",
      "95th percentile:  43.0\n",
      "99th percentile:  48.0\n",
      "Skewness:  0.40011658333380384\n",
      "Kurtosis:  -0.9507567921697535\n",
      "Min:  0.0\n",
      "Max:  59.0\n",
      "-----\n",
      "potexp2\n",
      "Num observations:  65144\n",
      "Weighted Mean:  602.9956441164136\n",
      "Weighted Standard Deviation:  605.9323437872054\n",
      "Weighted Variance:  367154.0052474561\n",
      "1st percentile:  4.0\n",
      "5th percentile:  25.0\n",
      "10th percentile:  49.0\n",
      "25th percentile:  100.0\n",
      "50th percentile:  361.0\n",
      "75th percentile:  1024.0\n",
      "90th percentile:  1600.0\n",
      "95th percentile:  1849.0\n",
      "99th percentile:  2304.0\n",
      "Skewness:  1.0964319210111444\n",
      "Kurtosis:  0.35585665389569243\n",
      "Min:  0.0\n",
      "Max:  3481.0\n",
      "-----\n"
     ]
    }
   ],
   "source": [
    "# again, but use black men\n",
    "# want to regress lhrwage, edyears, potexp, potexp2, weighted by hrearnwt if white and not hispanic and working and male\n",
    "condition = (dataframe['race'] == 1)  & (dataframe['sex'] == 1) & (dataframe['age'] >= 24) & (dataframe['age'] <= 65)\n",
    "# make sure no NaN values\n",
    "condition = condition & (~np.isnan(lrealhrwage))\n",
    "y1 = lrealhrwage[condition]\n",
    "X1 = dataframe[['edyears', 'potexp', 'potexp2']][condition]\n",
    "# make sure all are type float\n",
    "y1 = y1.astype(float)\n",
    "X1 = X1.astype(float)\n",
    "w1 = dataframe['hrearnwt'][condition]\n",
    "w1 = w1.astype(float)\n",
    "\n",
    "for col in X1.columns:\n",
    "    print(col)\n",
    "    summarize(X1[col], weight=w1)\n",
    "    print('-----')"
   ]
  },
  {
   "cell_type": "code",
   "execution_count": 263,
   "metadata": {},
   "outputs": [
    {
     "name": "stdout",
     "output_type": "stream",
     "text": [
      "                            WLS Regression Results                            \n",
      "==============================================================================\n",
      "Dep. Variable:                      y   R-squared:                       0.168\n",
      "Model:                            WLS   Adj. R-squared:                  0.168\n",
      "Method:                 Least Squares   F-statistic:                     3153.\n",
      "Date:                Mon, 05 Feb 2024   Prob (F-statistic):               0.00\n",
      "Time:                        16:33:12   Log-Likelihood:                -38164.\n",
      "No. Observations:               65144   AIC:                         7.634e+04\n",
      "Df Residuals:                   65140   BIC:                         7.637e+04\n",
      "Df Model:                           3                                         \n",
      "Covariance Type:                  HC1                                         \n",
      "==============================================================================\n",
      "                 coef    std err          t      P>|t|      [0.025      0.975]\n",
      "------------------------------------------------------------------------------\n",
      "const          1.9126      0.011    166.723      0.000       1.890       1.935\n",
      "edyears        0.0578      0.001     85.725      0.000       0.056       0.059\n",
      "potexp         0.0322      0.001     53.143      0.000       0.031       0.033\n",
      "potexp2       -0.0005   1.22e-05    -41.665      0.000      -0.001      -0.000\n",
      "==============================================================================\n",
      "Omnibus:                     2525.529   Durbin-Watson:                   1.779\n",
      "Prob(Omnibus):                  0.000   Jarque-Bera (JB):             4544.928\n",
      "Skew:                          -0.317   Prob(JB):                         0.00\n",
      "Kurtosis:                       4.128   Cond. No.                     5.37e+03\n",
      "==============================================================================\n",
      "\n",
      "Notes:\n",
      "[1] Standard Errors are heteroscedasticity robust (HC1)\n",
      "[2] The condition number is large, 5.37e+03. This might indicate that there are\n",
      "strong multicollinearity or other numerical problems.\n"
     ]
    }
   ],
   "source": [
    "run_WLS(X1, y1, w1)"
   ]
  },
  {
   "cell_type": "code",
   "execution_count": 264,
   "metadata": {},
   "outputs": [],
   "source": [
    "# again, but use black men\n",
    "# want to regress lhrwage, edyears, potexp, potexp2, weighted by hrearnwt if white and not hispanic and working and male\n",
    "condition = (dataframe['race'] == 2)  & (dataframe['sex'] == 1) & (dataframe['age'] >= 24) & (dataframe['age'] <= 65)\n",
    "# make sure no NaN values\n",
    "condition = condition & (~np.isnan(lrealhrwage))\n",
    "y2 = lrealhrwage[condition]\n",
    "X2 = dataframe[['edyears', 'potexp', 'potexp2']][condition]\n",
    "# make sure all are type float\n",
    "y2 = y2.astype(float)\n",
    "X2 = X2.astype(float)\n",
    "w2 = dataframe['hrearnwt'][condition]\n",
    "w2 = w2.astype(float)"
   ]
  },
  {
   "cell_type": "code",
   "execution_count": 265,
   "metadata": {},
   "outputs": [
    {
     "name": "stdout",
     "output_type": "stream",
     "text": [
      "                            WLS Regression Results                            \n",
      "==============================================================================\n",
      "Dep. Variable:                      y   R-squared:                       0.139\n",
      "Model:                            WLS   Adj. R-squared:                  0.139\n",
      "Method:                 Least Squares   F-statistic:                     256.3\n",
      "Date:                Mon, 05 Feb 2024   Prob (F-statistic):          4.38e-156\n",
      "Time:                        16:33:23   Log-Likelihood:                -3242.3\n",
      "No. Observations:                5746   AIC:                             6493.\n",
      "Df Residuals:                    5742   BIC:                             6519.\n",
      "Df Model:                           3                                         \n",
      "Covariance Type:                  HC1                                         \n",
      "==============================================================================\n",
      "                 coef    std err          t      P>|t|      [0.025      0.975]\n",
      "------------------------------------------------------------------------------\n",
      "const          1.9498      0.035     55.137      0.000       1.880       2.019\n",
      "edyears        0.0561      0.002     25.716      0.000       0.052       0.060\n",
      "potexp         0.0147      0.002      8.159      0.000       0.011       0.018\n",
      "potexp2       -0.0002   3.41e-05     -5.387      0.000      -0.000      -0.000\n",
      "==============================================================================\n",
      "Omnibus:                       59.495   Durbin-Watson:                   1.768\n",
      "Prob(Omnibus):                  0.000   Jarque-Bera (JB):               95.326\n",
      "Skew:                           0.066   Prob(JB):                     2.00e-21\n",
      "Kurtosis:                       3.617   Cond. No.                     5.74e+03\n",
      "==============================================================================\n",
      "\n",
      "Notes:\n",
      "[1] Standard Errors are heteroscedasticity robust (HC1)\n",
      "[2] The condition number is large, 5.74e+03. This might indicate that there are\n",
      "strong multicollinearity or other numerical problems.\n"
     ]
    }
   ],
   "source": [
    "run_WLS(X2, y2, w2)"
   ]
  },
  {
   "cell_type": "code",
   "execution_count": 277,
   "metadata": {},
   "outputs": [],
   "source": [
    "from importlib import reload\n",
    "import helper\n",
    "reload(helper)\n",
    "from helper import oaxaca_blinder"
   ]
  },
  {
   "cell_type": "code",
   "execution_count": 278,
   "metadata": {},
   "outputs": [
    {
     "name": "stdout",
     "output_type": "stream",
     "text": [
      "Mean diff:  const       0.000000\n",
      "edyears     1.496042\n",
      "potexp     -1.474405\n",
      "potexp2   -78.681763\n",
      "dtype: float64\n",
      "Coeff1:  [ 1.91264202e+00  5.77945396e-02  3.21556552e-02 -5.09025686e-04]\n",
      "Coeff2:  [ 1.94977648e+00  5.61089405e-02  1.47280559e-02 -1.83825662e-04]\n",
      "Explained component: 0.07910363078735927\n",
      "Unexplained component: 0.15509659997572392\n",
      "Total gap: 0.2342002307630832\n"
     ]
    }
   ],
   "source": [
    "# oaxaca decomposition\n",
    "oaxaca_blinder(X1, X2, y1, y2, w1,w2)"
   ]
  },
  {
   "cell_type": "code",
   "execution_count": null,
   "metadata": {},
   "outputs": [],
   "source": []
  }
 ],
 "metadata": {
  "kernelspec": {
   "display_name": "base",
   "language": "python",
   "name": "python3"
  },
  "language_info": {
   "codemirror_mode": {
    "name": "ipython",
    "version": 3
   },
   "file_extension": ".py",
   "mimetype": "text/x-python",
   "name": "python",
   "nbconvert_exporter": "python",
   "pygments_lexer": "ipython3",
   "version": "3.11.5"
  }
 },
 "nbformat": 4,
 "nbformat_minor": 2
}
