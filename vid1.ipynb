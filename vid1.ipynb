{
 "cells": [
  {
   "cell_type": "code",
   "execution_count": 114,
   "metadata": {},
   "outputs": [],
   "source": [
    "import pyreadstat  \n",
    "import pandas as pd\n",
    "import numpy as np  \n",
    "import statsmodels.api as sm\n",
    "dataframe, meta = pyreadstat.read_dta('morg79.dta')"
   ]
  },
  {
   "cell_type": "code",
   "execution_count": 113,
   "metadata": {},
   "outputs": [
    {
     "data": {
      "text/plain": [
       "0         2\n",
       "1         1\n",
       "2         2\n",
       "3         1\n",
       "4         1\n",
       "         ..\n",
       "328401    2\n",
       "328402    1\n",
       "328403    1\n",
       "328404    2\n",
       "328405    1\n",
       "Name: gradecp, Length: 328406, dtype: int64"
      ]
     },
     "execution_count": 113,
     "metadata": {},
     "output_type": "execute_result"
    }
   ],
   "source": [
    "dataframe['gradecp']"
   ]
  },
  {
   "cell_type": "code",
   "execution_count": 89,
   "metadata": {},
   "outputs": [
    {
     "data": {
      "text/plain": [
       "Index(['minsamp', 'intmonth', 'hhid', 'state', 'smsarank', 'hhnum', 'activlwr',\n",
       "       'hourslw', 'reasonlw', 'absentlw', 'classer', 'ind70', 'occ70',\n",
       "       'lineno', 'relahh', 'age', 'marital', 'race', 'sex', 'veteran',\n",
       "       'gradeat', 'gradecp', 'esr', 'weight', 'smsastat', 'centcity', 'ethnic',\n",
       "       'ptstat', 'ftpt79', 'docc70', 'doinglw', 'hourslwa', 'uhours35',\n",
       "       'why35lw', 'class', 'uhours', 'paidhr', 'earnhr', 'uearnwk', 'earnwt',\n",
       "       'eligible', 'uhourse', 'paidhre', 'earnhre', 'earnwke', 'I25a', 'I25b',\n",
       "       'I25c', 'I25d', 'uearnwke', 'year', 'smsa70', 'dind'],\n",
       "      dtype='object')"
      ]
     },
     "execution_count": 89,
     "metadata": {},
     "output_type": "execute_result"
    }
   ],
   "source": [
    "dataframe.columns"
   ]
  },
  {
   "cell_type": "code",
   "execution_count": 90,
   "metadata": {},
   "outputs": [
    {
     "data": {
      "text/plain": [
       "0          40\n",
       "1          40\n",
       "2         NaN\n",
       "3         NaN\n",
       "4          40\n",
       "         ... \n",
       "328401    NaN\n",
       "328402     40\n",
       "328403    NaN\n",
       "328404    NaN\n",
       "328405    NaN\n",
       "Name: uhours, Length: 328406, dtype: object"
      ]
     },
     "execution_count": 90,
     "metadata": {},
     "output_type": "execute_result"
    }
   ],
   "source": [
    "dataframe['uhours']"
   ]
  },
  {
   "cell_type": "code",
   "execution_count": 91,
   "metadata": {},
   "outputs": [],
   "source": [
    "# remove all NaN values and 0 for the uhours column\n",
    "dataframe = dataframe.dropna(subset=['uhours'])\n",
    "dataframe = dataframe.dropna(subset=['earnwke'])\n",
    "dataframe = dataframe[dataframe['uhours'] != 0]\n",
    "dataframe = dataframe[dataframe['uhours'] != 0]\n",
    "# make sure to compare the right row entries so the division makes sense\n",
    "dataframe['hrwage'] = dataframe['earnwke'] / dataframe['uhours']"
   ]
  },
  {
   "cell_type": "code",
   "execution_count": 92,
   "metadata": {},
   "outputs": [],
   "source": [
    "def summarize(col, weight=None):\n",
    "    # get mean, median, standard deviation, min, max\n",
    "    # get mean\n",
    "    if type(col) != pd.Series:\n",
    "        col = pd.Series(col)\n",
    "    if weight is not None:\n",
    "        print(\"Weighted Mean: \", np.average(col, weights=weight))\n",
    "    else:\n",
    "        print(\"Mean: \", col.mean())\n",
    "    print(\"Median: \", col.median())\n",
    "    if weight is not None:\n",
    "        print(\"Weighted Standard Deviation: \", np.sqrt(np.average((col - np.average(col, weights=weight))**2, weights=weight)))\n",
    "        print(\"Weighted Variance: \", np.average((col - np.average(col, weights=weight))**2, weights=weight))\n",
    "    else:\n",
    "        print(\"Standard Deviation: \", col.std())\n",
    "        print(\"Variance: \", col.var())\n",
    "\n",
    "    # get percentiles\n",
    "    # if weight is not None:\n",
    "    #     print(\"Weighted 25th percentile: \", np.percentile(col, 25, weights=weight))\n",
    "    #     print(\"Weighted 50th percentile: \", np.percentile(col, 50, weights=weight))\n",
    "    #     print(\"Weighted 75th percentile: \", np.percentile(col, 75, weights=weight))\n",
    "    # else:\n",
    "    print(\"25th percentile: \", col.quantile(0.25))\n",
    "    print(\"50th percentile: \", col.quantile(0.50))\n",
    "    print(\"75th percentile: \", col.quantile(0.75))\n",
    "\n",
    "    # get skewness\n",
    "    print(\"Skewness: \", col.skew())\n",
    "\n",
    "    # get kurtosis\n",
    "    print(\"Kurtosis: \", col.kurtosis())\n",
    "\n",
    "    # get min and max\n",
    "    print(\"Min: \", col.min())\n",
    "    print(\"Max: \", col.max())\n",
    "\n",
    "    # return col.mean(), col.median(), col.std(), col.min(), col.max()"
   ]
  },
  {
   "cell_type": "code",
   "execution_count": 93,
   "metadata": {},
   "outputs": [
    {
     "name": "stdout",
     "output_type": "stream",
     "text": [
      "Mean:  6.098992663916908\n",
      "Median:  5.0\n",
      "Standard Deviation:  4.266460415857638\n",
      "Variance:  18.202684480080126\n",
      "25th percentile:  3.5\n",
      "50th percentile:  5.0\n",
      "75th percentile:  7.514285714285714\n",
      "Skewness:  21.070557491609996\n",
      "Kurtosis:  1686.5797055425337\n",
      "Min:  0.03333333333333333\n",
      "Max:  500.0\n"
     ]
    }
   ],
   "source": [
    "summarize(dataframe['hrwage'])"
   ]
  },
  {
   "cell_type": "code",
   "execution_count": 94,
   "metadata": {},
   "outputs": [
    {
     "data": {
      "text/plain": [
       "0         1\n",
       "1         1\n",
       "4         1\n",
       "6         1\n",
       "7         1\n",
       "         ..\n",
       "328388    1\n",
       "328389    1\n",
       "328390    1\n",
       "328391    1\n",
       "328402    3\n",
       "Name: race, Length: 167565, dtype: int64"
      ]
     },
     "execution_count": 94,
     "metadata": {},
     "output_type": "execute_result"
    }
   ],
   "source": [
    "dataframe['race']"
   ]
  },
  {
   "cell_type": "code",
   "execution_count": 95,
   "metadata": {},
   "outputs": [],
   "source": [
    "# look at race, where race is 1 for white\n",
    "# sum the values with race == 1\n",
    "white = dataframe['race'].values == 1\n",
    "black = dataframe['race'].values == 2\n",
    "hispanic = dataframe['race'].values == 3\n"
   ]
  },
  {
   "cell_type": "code",
   "execution_count": 96,
   "metadata": {},
   "outputs": [
    {
     "data": {
      "text/plain": [
       "4459"
      ]
     },
     "execution_count": 96,
     "metadata": {},
     "output_type": "execute_result"
    }
   ],
   "source": [
    "hispanic.sum()"
   ]
  },
  {
   "cell_type": "code",
   "execution_count": 97,
   "metadata": {},
   "outputs": [],
   "source": [
    "hrearnwt = dataframe['earnwt'] * dataframe['uhours']\n",
    "dataframe['hrearnwt'] = hrearnwt"
   ]
  },
  {
   "cell_type": "code",
   "execution_count": 98,
   "metadata": {},
   "outputs": [
    {
     "name": "stdout",
     "output_type": "stream",
     "text": [
      "Mean:  233780.32185387824\n",
      "Median:  251810.8037109375\n",
      "Standard Deviation:  117174.66850211626\n",
      "Variance:  13729902938.580835\n",
      "25th percentile:  146587.1953125\n",
      "50th percentile:  251810.8037109375\n",
      "75th percentile:  299838.80859375\n",
      "Skewness:  0.7797426670293288\n",
      "Kurtosis:  5.5944302269080755\n",
      "Min:  441.19998931884766\n",
      "Max:  2302304.4140625\n"
     ]
    }
   ],
   "source": [
    "summarize(hrearnwt)"
   ]
  },
  {
   "cell_type": "code",
   "execution_count": 99,
   "metadata": {},
   "outputs": [
    {
     "name": "stdout",
     "output_type": "stream",
     "text": [
      "Mean:  6.1905374465650596\n",
      "Median:  5.2\n",
      "Standard Deviation:  4.1525473329644775\n",
      "Variance:  17.2436493525104\n",
      "25th percentile:  3.525\n",
      "50th percentile:  5.2\n",
      "75th percentile:  7.75\n",
      "Skewness:  13.520667666961137\n",
      "Kurtosis:  740.1086620875421\n",
      "Min:  0.03333333333333333\n",
      "Max:  369.0\n"
     ]
    }
   ],
   "source": [
    "# look at distribution of hrearnwt for white, black, and hispanic\n",
    "summarize(dataframe['hrwage'][white])"
   ]
  },
  {
   "cell_type": "code",
   "execution_count": 100,
   "metadata": {},
   "outputs": [
    {
     "name": "stdout",
     "output_type": "stream",
     "text": [
      "Mean:  5.220620553434161\n",
      "Median:  4.375\n",
      "Standard Deviation:  5.2928734593595\n",
      "Variance:  28.0145094567922\n",
      "25th percentile:  3.1096096096096097\n",
      "50th percentile:  4.375\n",
      "75th percentile:  6.294736842105263\n",
      "Skewness:  58.61353857885214\n",
      "Kurtosis:  5215.76191945734\n",
      "Min:  0.23333333333333334\n",
      "Max:  500.0\n"
     ]
    }
   ],
   "source": [
    "summarize(dataframe['hrwage'][black])"
   ]
  },
  {
   "cell_type": "code",
   "execution_count": 101,
   "metadata": {},
   "outputs": [
    {
     "name": "stdout",
     "output_type": "stream",
     "text": [
      "Mean:  6.015547757919675\n",
      "Median:  5.0\n",
      "Standard Deviation:  3.761691125157011\n",
      "Variance:  14.150320121085018\n",
      "25th percentile:  3.5\n",
      "50th percentile:  5.0\n",
      "75th percentile:  7.5\n",
      "Skewness:  3.4326062830296764\n",
      "Kurtosis:  33.544705861690744\n",
      "Min:  0.23333333333333334\n",
      "Max:  74.0\n"
     ]
    }
   ],
   "source": [
    "summarize(dataframe['hrwage'][hispanic])"
   ]
  },
  {
   "cell_type": "code",
   "execution_count": 102,
   "metadata": {},
   "outputs": [],
   "source": [
    "# get sex\n",
    "male = dataframe['sex']==1\n",
    "female = dataframe['sex']==2"
   ]
  },
  {
   "cell_type": "code",
   "execution_count": 103,
   "metadata": {},
   "outputs": [
    {
     "name": "stdout",
     "output_type": "stream",
     "text": [
      "Mean:  7.295179263927489\n",
      "Median:  6.555555555555555\n",
      "Standard Deviation:  4.51645764087981\n",
      "Variance:  20.398389621861618\n",
      "25th percentile:  4.5\n",
      "50th percentile:  6.555555555555555\n",
      "75th percentile:  9.0\n",
      "Skewness:  13.952536799682152\n",
      "Kurtosis:  780.6198066010592\n",
      "Min:  0.03333333333333333\n",
      "Max:  369.0\n"
     ]
    }
   ],
   "source": [
    "# male and white\n",
    "summarize(dataframe['hrwage'][white & male])"
   ]
  },
  {
   "cell_type": "code",
   "execution_count": 104,
   "metadata": {},
   "outputs": [
    {
     "data": {
      "text/plain": [
       "0         True\n",
       "1         True\n",
       "4         True\n",
       "6         True\n",
       "7         True\n",
       "          ... \n",
       "328388    True\n",
       "328389    True\n",
       "328390    True\n",
       "328391    True\n",
       "328402    True\n",
       "Name: esr, Length: 167565, dtype: bool"
      ]
     },
     "execution_count": 104,
     "metadata": {},
     "output_type": "execute_result"
    }
   ],
   "source": [
    "dataframe['esr']==1"
   ]
  },
  {
   "cell_type": "code",
   "execution_count": 105,
   "metadata": {},
   "outputs": [
    {
     "name": "stdout",
     "output_type": "stream",
     "text": [
      "Weighted Mean:  7.364672538755782\n",
      "Median:  6.555555555555555\n",
      "Weighted Standard Deviation:  3.8032694522271666\n",
      "Weighted Variance:  14.464858526244331\n",
      "25th percentile:  4.5\n",
      "50th percentile:  6.555555555555555\n",
      "75th percentile:  9.0\n",
      "Skewness:  13.952536799682152\n",
      "Kurtosis:  780.6198066010592\n",
      "Min:  0.03333333333333333\n",
      "Max:  369.0\n"
     ]
    }
   ],
   "source": [
    "condition = white & male \n",
    "summarize(dataframe['hrwage'][condition ], weight=dataframe['hrearnwt'][condition])"
   ]
  },
  {
   "cell_type": "code",
   "execution_count": 106,
   "metadata": {},
   "outputs": [
    {
     "name": "stdout",
     "output_type": "stream",
     "text": [
      "Mean:  1.0580192761018112\n",
      "Median:  1.0\n",
      "Standard Deviation:  0.23378059343028038\n",
      "Variance:  0.054653365864614056\n",
      "25th percentile:  1.0\n",
      "50th percentile:  1.0\n",
      "75th percentile:  1.0\n",
      "Skewness:  3.781203502057148\n",
      "Kurtosis:  12.297646704439746\n",
      "Min:  1\n",
      "Max:  2\n"
     ]
    }
   ],
   "source": [
    "summarize(dataframe['esr'])"
   ]
  },
  {
   "cell_type": "code",
   "execution_count": 107,
   "metadata": {},
   "outputs": [],
   "source": [
    "# replace values < 2$ per hour with NaN\n",
    "dataframe.loc[dataframe['hrwage'] < 2, 'hrwage'] = np.nan"
   ]
  },
  {
   "cell_type": "code",
   "execution_count": 117,
   "metadata": {},
   "outputs": [
    {
     "data": {
      "text/plain": [
       "Index(['minsamp', 'intmonth', 'hhid', 'state', 'smsarank', 'hhnum', 'activlwr',\n",
       "       'hourslw', 'reasonlw', 'absentlw', 'classer', 'ind70', 'occ70',\n",
       "       'lineno', 'relahh', 'age', 'marital', 'race', 'sex', 'veteran',\n",
       "       'gradeat', 'gradecp', 'esr', 'weight', 'smsastat', 'centcity', 'ethnic',\n",
       "       'ptstat', 'ftpt79', 'docc70', 'doinglw', 'hourslwa', 'uhours35',\n",
       "       'why35lw', 'class', 'uhours', 'paidhr', 'earnhr', 'uearnwk', 'earnwt',\n",
       "       'eligible', 'uhourse', 'paidhre', 'earnhre', 'earnwke', 'I25a', 'I25b',\n",
       "       'I25c', 'I25d', 'uearnwke', 'year', 'smsa70', 'dind'],\n",
       "      dtype='object')"
      ]
     },
     "execution_count": 117,
     "metadata": {},
     "output_type": "execute_result"
    }
   ],
   "source": [
    "dataframe.columns"
   ]
  },
  {
   "cell_type": "code",
   "execution_count": 116,
   "metadata": {},
   "outputs": [
    {
     "name": "stdout",
     "output_type": "stream",
     "text": [
      "Mean:  1.2375261109723938\n",
      "Median:  1.0\n",
      "Standard Deviation:  0.4255678665673297\n",
      "Variance:  0.18110800905466853\n",
      "25th percentile:  1.0\n",
      "50th percentile:  1.0\n",
      "75th percentile:  1.0\n",
      "Skewness:  1.2335305746951208\n",
      "Kurtosis:  -0.47840523482816\n",
      "Min:  1\n",
      "Max:  2\n"
     ]
    }
   ],
   "source": [
    "summarize(dataframe['gradecp'])"
   ]
  },
  {
   "cell_type": "code",
   "execution_count": 109,
   "metadata": {},
   "outputs": [],
   "source": [
    "edyears = dataframe['gradecp']\n",
    "# if gradecp==2, then subtract 1 from edyears\n",
    "edyears = np.where(dataframe['gradecp']==2, edyears-1, edyears)\n",
    "summarize(edyears)"
   ]
  },
  {
   "cell_type": "code",
   "execution_count": null,
   "metadata": {},
   "outputs": [],
   "source": [
    "# Fitting the model\n",
    "\n",
    "X = sm.add_constant(X)\n",
    "\n",
    "\n",
    "model = sm.WLS(y, X, weights=w).fit()\n",
    "\n",
    "# Using robust standard errors (e.g., HC1)\n",
    "robust_model = model.get_robustcov_results(cov_type='HC1')\n",
    "\n",
    "# Viewing the summary with robust standard errors\n",
    "print(robust_model.summary())"
   ]
  }
 ],
 "metadata": {
  "kernelspec": {
   "display_name": "base",
   "language": "python",
   "name": "python3"
  },
  "language_info": {
   "codemirror_mode": {
    "name": "ipython",
    "version": 3
   },
   "file_extension": ".py",
   "mimetype": "text/x-python",
   "name": "python",
   "nbconvert_exporter": "python",
   "pygments_lexer": "ipython3",
   "version": "3.11.5"
  }
 },
 "nbformat": 4,
 "nbformat_minor": 2
}
