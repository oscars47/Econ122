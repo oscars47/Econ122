{
 "cells": [
  {
   "cell_type": "code",
   "execution_count": 1,
   "metadata": {},
   "outputs": [],
   "source": [
    "import pyreadstat as prs\n",
    "from helper import *\n",
    "import os"
   ]
  },
  {
   "cell_type": "code",
   "execution_count": 2,
   "metadata": {},
   "outputs": [
    {
     "name": "stdout",
     "output_type": "stream",
     "text": [
      "data/morg79.dta\n",
      "data/morg19.dta\n",
      "dict_keys([79, 19])\n"
     ]
    }
   ],
   "source": [
    "files = ['data/morg79.dta','data/morg19.dta' ]\n",
    "# for each year, log hourly wage, % < high school, % with college, years edu, potential exp, potential exp squared, sample size\n",
    "# do this for 3 criteria: men and women age 24-65, men age 24-65, women age 24-65\n",
    "# weight based on hrearnwt = dataframe['earnwt'] * dataframe['uhours']\n",
    "\n",
    "# define dictionary of dataframes\n",
    "dfs = {}\n",
    "\n",
    "for file in files:\n",
    "    print(file)\n",
    "    # create dataframe\n",
    "    df, meta = prs.read_dta(file)\n",
    "    # create year variable\n",
    "    # split .dta, take last two characters, convert to int\n",
    "    year = int(file.split('.')[0][-2:])\n",
    "    dfs[year] = df\n",
    "\n",
    "print(dfs.keys())"
   ]
  },
  {
   "cell_type": "code",
   "execution_count": 3,
   "metadata": {},
   "outputs": [
    {
     "name": "stderr",
     "output_type": "stream",
     "text": [
      "/Users/oscarscholin/anaconda3/lib/python3.11/site-packages/pandas/core/arraylike.py:399: RuntimeWarning: divide by zero encountered in log\n",
      "  result = getattr(ufunc, method)(*inputs, **kwargs)\n",
      "/var/folders/zx/ck7rkn5j0_zfqqnb92k3668r0000gn/T/ipykernel_20301/3680371078.py:75: FutureWarning: A value is trying to be set on a copy of a DataFrame or Series through chained assignment using an inplace method.\n",
      "The behavior will change in pandas 3.0. This inplace method will never work because the intermediate object on which we are setting values always behaves as a copy.\n",
      "\n",
      "For example, when doing 'df[col].method(value, inplace=True)', try using 'df.method({col: value}, inplace=True)' or df[col] = df[col].method(value) instead, to perform the operation inplace on the original object.\n",
      "\n",
      "\n",
      "  df['logwage'].replace(-np.inf, np.nan, inplace=True)  # Replace -inf with NaN or another placeholder\n",
      "/var/folders/zx/ck7rkn5j0_zfqqnb92k3668r0000gn/T/ipykernel_20301/3680371078.py:52: FutureWarning: Setting an item of incompatible dtype is deprecated and will raise an error in a future version of pandas. Value '2.5' has dtype incompatible with int64, please explicitly cast to a compatible dtype first.\n",
      "  df.loc[df['grade92'] == 32, 'educ'] = 2.5\n",
      "/Users/oscarscholin/anaconda3/lib/python3.11/site-packages/pandas/core/arraylike.py:399: RuntimeWarning: divide by zero encountered in log\n",
      "  result = getattr(ufunc, method)(*inputs, **kwargs)\n",
      "/var/folders/zx/ck7rkn5j0_zfqqnb92k3668r0000gn/T/ipykernel_20301/3680371078.py:75: FutureWarning: A value is trying to be set on a copy of a DataFrame or Series through chained assignment using an inplace method.\n",
      "The behavior will change in pandas 3.0. This inplace method will never work because the intermediate object on which we are setting values always behaves as a copy.\n",
      "\n",
      "For example, when doing 'df[col].method(value, inplace=True)', try using 'df.method({col: value}, inplace=True)' or df[col] = df[col].method(value) instead, to perform the operation inplace on the original object.\n",
      "\n",
      "\n",
      "  df['logwage'].replace(-np.inf, np.nan, inplace=True)  # Replace -inf with NaN or another placeholder\n"
     ]
    }
   ],
   "source": [
    "inflation = [[33.804,34.728,35.590,36.451], [102.877, 103.422, 103.674, 104.080]]\n",
    "inflation_2019 = [102.877, 103.422, 103.674, 104.080]\n",
    "# now that data is loaded in dictionary, can create tables\n",
    "# add to each df the new variables\n",
    "for j, year in enumerate(dfs.keys()):\n",
    "    df = dfs[year]\n",
    "    # create new variables\n",
    "\n",
    "    # make sure to compare the right row entries so the division makes sense\n",
    "    eps = 1e-6\n",
    "    if 'uhours' in df.columns:\n",
    "        df['uhours'] = pd.to_numeric(df['uhours'], errors='coerce').fillna(0)\n",
    "        df['earnwke'] = pd.to_numeric(df['earnwke'], errors='coerce').fillna(0)\n",
    "        # get as np array\n",
    "        uhours = df['uhours'].to_numpy()\n",
    "        df['hrwage'] = np.where(uhours > eps, df['earnwke'] / uhours, 0)\n",
    "        dfs[year]['hrearnwt'] = dfs[year]['earnwt'] * dfs[year]['uhours']\n",
    "    elif 'uhourse' in df.columns:\n",
    "        df['uhourse'] = pd.to_numeric(df['uhourse'], errors='coerce').fillna(0)\n",
    "        # get as np array\n",
    "        uhours = df['uhourse'].to_numpy()\n",
    "        df['earnwke'] = pd.to_numeric(df['earnwke'], errors='coerce').fillna(0)\n",
    "        df['hrwage'] = np.where(uhours > eps, df['earnwke'] / uhours, 0)\n",
    "        dfs[year]['hrearnwt'] = dfs[year]['earnwt'] * uhours\n",
    "    \n",
    "    ## first adjust for inflation for each quarter ##\n",
    "    # get the row from the inflation list\n",
    "    inflation_row = inflation[j]\n",
    "    realhrwage = df['hrwage'] \n",
    "    # if month between 1 and 3, then multiply by 100/33.804\n",
    "    realhrwage = np.where(df['intmonth'] <= 3, realhrwage * 100/inflation_row[0], realhrwage)\n",
    "    # if month between 4 and 6, then multiply by 100/34.728\n",
    "    realhrwage = np.where((df['intmonth'] > 3) & (df['intmonth'] <= 6), realhrwage * inflation_2019[0]/inflation_row[1], realhrwage)\n",
    "    # if month between 7 and 9, then multiply by 100/35.590\n",
    "    realhrwage = np.where((df['intmonth'] > 6) & (df['intmonth'] <= 9), realhrwage * inflation_2019[1]/inflation_row[2], realhrwage)\n",
    "    # if month between 10 and 12, then multiply by 100/36.451\n",
    "    realhrwage = np.where((df['intmonth'] > 9) & (df['intmonth'] <= 12), realhrwage * inflation_2019[2]/inflation_row[3], realhrwage)\n",
    "    \n",
    "    df['realhrwage'] = realhrwage\n",
    "    # where realhrwage <= 2 or >= 250, set to 0\n",
    "    df['realhrwage'] = np.where(df['realhrwage'] <= 2, 0, df['realhrwage'])\n",
    "    df['realhrwage'] = np.where(df['realhrwage'] >= 250, 0, df['realhrwage'])\n",
    "\n",
    "\n",
    "    ## get educ; treat gradeat vs grade92 separately ##\n",
    "    # if grade32 exists, then need to convert that; otheerwise have to deal with gradeat and gradecp\n",
    "    # create educ variable\n",
    "    if 'grade92' in df.columns:\n",
    "        df['educ'] = df['grade92']\n",
    "        \n",
    "        df.loc[df['grade92'] == 31, 'educ'] = 0\n",
    "        df.loc[df['grade92'] == 32, 'educ'] = 2.5\n",
    "        df.loc[df['grade92'] == 33, 'educ'] = 5.5\n",
    "        df.loc[df['grade92'] == 34, 'educ'] = 7.5\n",
    "        df.loc[df['grade92'] == 35, 'educ'] = 9\n",
    "        df.loc[df['grade92'] == 36, 'educ'] = 10\n",
    "        df.loc[df['grade92'] == 37, 'educ'] = 11\n",
    "        df.loc[df['grade92'] == 38, 'educ'] = 12\n",
    "        df.loc[df['grade92'] == 39, 'educ'] = 12\n",
    "        df.loc[df['grade92'] == 40, 'educ'] = 13\n",
    "        df.loc[df['grade92'] == 41, 'educ'] = 14\n",
    "        df.loc[df['grade92'] == 42, 'educ'] = 14\n",
    "        df.loc[df['grade92'] == 43, 'educ'] = 16\n",
    "        df.loc[df['grade92'] == 44, 'educ'] = 18\n",
    "        df.loc[df['grade92'] == 45, 'educ'] = 18\n",
    "        df.loc[df['grade92'] == 46, 'educ'] = 18\n",
    "\n",
    "    else:\n",
    "        df['educ'] = df['gradeat']\n",
    "        # if gradecp is 0, then subtract 1\n",
    "        df.loc[df['gradecp'] == 0, 'educ'] = df['educ'] - 1\n",
    "    \n",
    "\n",
    "    df['logwage'] = np.log(df['realhrwage'].astype(float))\n",
    "    df['logwage'].replace(-np.inf, np.nan, inplace=True)  # Replace -inf with NaN or another placeholder\n",
    "\n",
    "    df['hrearnwt'] = np.where(df['logwage'].notna(), df['hrearnwt'], 0)\n",
    "   \n",
    "   \n",
    "    df['lths'] = dfs[year]['educ'] < 12\n",
    "    df['college'] = dfs[year]['educ'] >= 16\n",
    "    df['exp'] = dfs[year]['age'] - dfs[year]['educ'] - 6\n",
    "    df['exp2'] = dfs[year]['exp']**2\n",
    "\n",
    "    # reset key value\n",
    "    dfs[year] = df"
   ]
  },
  {
   "cell_type": "code",
   "execution_count": 4,
   "metadata": {},
   "outputs": [],
   "source": [
    "combined_df = pd.concat([dfs[79], dfs[19]], ignore_index=True)\n",
    "fulltime = combined_df['uhourse'] >= 35\n",
    "combined_df['fulltime'] = fulltime"
   ]
  },
  {
   "cell_type": "code",
   "execution_count": 5,
   "metadata": {},
   "outputs": [
    {
     "data": {
      "text/html": [
       "<div>\n",
       "<style scoped>\n",
       "    .dataframe tbody tr th:only-of-type {\n",
       "        vertical-align: middle;\n",
       "    }\n",
       "\n",
       "    .dataframe tbody tr th {\n",
       "        vertical-align: top;\n",
       "    }\n",
       "\n",
       "    .dataframe thead th {\n",
       "        text-align: right;\n",
       "    }\n",
       "</style>\n",
       "<table border=\"1\" class=\"dataframe\">\n",
       "  <thead>\n",
       "    <tr style=\"text-align: right;\">\n",
       "      <th></th>\n",
       "      <th>minsamp</th>\n",
       "      <th>intmonth</th>\n",
       "      <th>hhid</th>\n",
       "      <th>state</th>\n",
       "      <th>smsarank</th>\n",
       "      <th>hhnum</th>\n",
       "      <th>activlwr</th>\n",
       "      <th>hourslw</th>\n",
       "      <th>reasonlw</th>\n",
       "      <th>absentlw</th>\n",
       "      <th>...</th>\n",
       "      <th>ym</th>\n",
       "      <th>ch02</th>\n",
       "      <th>ch35</th>\n",
       "      <th>ch613</th>\n",
       "      <th>ch1417</th>\n",
       "      <th>ch05</th>\n",
       "      <th>ihigrdc</th>\n",
       "      <th>docc00</th>\n",
       "      <th>dind02</th>\n",
       "      <th>fulltime</th>\n",
       "    </tr>\n",
       "  </thead>\n",
       "  <tbody>\n",
       "    <tr>\n",
       "      <th>0</th>\n",
       "      <td>4</td>\n",
       "      <td>1</td>\n",
       "      <td>003001221503</td>\n",
       "      <td>93.0</td>\n",
       "      <td>0.0</td>\n",
       "      <td>1</td>\n",
       "      <td>1.0</td>\n",
       "      <td>40</td>\n",
       "      <td>NaN</td>\n",
       "      <td>NaN</td>\n",
       "      <td>...</td>\n",
       "      <td>NaN</td>\n",
       "      <td>NaN</td>\n",
       "      <td>NaN</td>\n",
       "      <td>NaN</td>\n",
       "      <td>NaN</td>\n",
       "      <td>NaN</td>\n",
       "      <td>NaN</td>\n",
       "      <td>NaN</td>\n",
       "      <td>NaN</td>\n",
       "      <td>True</td>\n",
       "    </tr>\n",
       "    <tr>\n",
       "      <th>1</th>\n",
       "      <td>4</td>\n",
       "      <td>1</td>\n",
       "      <td>003001221503</td>\n",
       "      <td>93.0</td>\n",
       "      <td>0.0</td>\n",
       "      <td>1</td>\n",
       "      <td>1.0</td>\n",
       "      <td>40</td>\n",
       "      <td>NaN</td>\n",
       "      <td>NaN</td>\n",
       "      <td>...</td>\n",
       "      <td>NaN</td>\n",
       "      <td>NaN</td>\n",
       "      <td>NaN</td>\n",
       "      <td>NaN</td>\n",
       "      <td>NaN</td>\n",
       "      <td>NaN</td>\n",
       "      <td>NaN</td>\n",
       "      <td>NaN</td>\n",
       "      <td>NaN</td>\n",
       "      <td>True</td>\n",
       "    </tr>\n",
       "    <tr>\n",
       "      <th>2</th>\n",
       "      <td>4</td>\n",
       "      <td>1</td>\n",
       "      <td>003001221503</td>\n",
       "      <td>93.0</td>\n",
       "      <td>0.0</td>\n",
       "      <td>1</td>\n",
       "      <td>5.0</td>\n",
       "      <td>NaN</td>\n",
       "      <td>NaN</td>\n",
       "      <td>NaN</td>\n",
       "      <td>...</td>\n",
       "      <td>NaN</td>\n",
       "      <td>NaN</td>\n",
       "      <td>NaN</td>\n",
       "      <td>NaN</td>\n",
       "      <td>NaN</td>\n",
       "      <td>NaN</td>\n",
       "      <td>NaN</td>\n",
       "      <td>NaN</td>\n",
       "      <td>NaN</td>\n",
       "      <td>False</td>\n",
       "    </tr>\n",
       "    <tr>\n",
       "      <th>3</th>\n",
       "      <td>4</td>\n",
       "      <td>1</td>\n",
       "      <td>003001222503</td>\n",
       "      <td>93.0</td>\n",
       "      <td>0.0</td>\n",
       "      <td>1</td>\n",
       "      <td>7.0</td>\n",
       "      <td>NaN</td>\n",
       "      <td>NaN</td>\n",
       "      <td>NaN</td>\n",
       "      <td>...</td>\n",
       "      <td>NaN</td>\n",
       "      <td>NaN</td>\n",
       "      <td>NaN</td>\n",
       "      <td>NaN</td>\n",
       "      <td>NaN</td>\n",
       "      <td>NaN</td>\n",
       "      <td>NaN</td>\n",
       "      <td>NaN</td>\n",
       "      <td>NaN</td>\n",
       "      <td>False</td>\n",
       "    </tr>\n",
       "    <tr>\n",
       "      <th>4</th>\n",
       "      <td>4</td>\n",
       "      <td>1</td>\n",
       "      <td>003001222503</td>\n",
       "      <td>93.0</td>\n",
       "      <td>0.0</td>\n",
       "      <td>1</td>\n",
       "      <td>1.0</td>\n",
       "      <td>40</td>\n",
       "      <td>NaN</td>\n",
       "      <td>NaN</td>\n",
       "      <td>...</td>\n",
       "      <td>NaN</td>\n",
       "      <td>NaN</td>\n",
       "      <td>NaN</td>\n",
       "      <td>NaN</td>\n",
       "      <td>NaN</td>\n",
       "      <td>NaN</td>\n",
       "      <td>NaN</td>\n",
       "      <td>NaN</td>\n",
       "      <td>NaN</td>\n",
       "      <td>True</td>\n",
       "    </tr>\n",
       "    <tr>\n",
       "      <th>...</th>\n",
       "      <td>...</td>\n",
       "      <td>...</td>\n",
       "      <td>...</td>\n",
       "      <td>...</td>\n",
       "      <td>...</td>\n",
       "      <td>...</td>\n",
       "      <td>...</td>\n",
       "      <td>...</td>\n",
       "      <td>...</td>\n",
       "      <td>...</td>\n",
       "      <td>...</td>\n",
       "      <td>...</td>\n",
       "      <td>...</td>\n",
       "      <td>...</td>\n",
       "      <td>...</td>\n",
       "      <td>...</td>\n",
       "      <td>...</td>\n",
       "      <td>...</td>\n",
       "      <td>...</td>\n",
       "      <td>...</td>\n",
       "      <td>...</td>\n",
       "    </tr>\n",
       "    <tr>\n",
       "      <th>619791</th>\n",
       "      <td>4</td>\n",
       "      <td>12</td>\n",
       "      <td>802505349610555</td>\n",
       "      <td>NaN</td>\n",
       "      <td>NaN</td>\n",
       "      <td>1</td>\n",
       "      <td>NaN</td>\n",
       "      <td>32</td>\n",
       "      <td>NaN</td>\n",
       "      <td>NaN</td>\n",
       "      <td>...</td>\n",
       "      <td>716.0</td>\n",
       "      <td>0.0</td>\n",
       "      <td>0.0</td>\n",
       "      <td>0.0</td>\n",
       "      <td>0.0</td>\n",
       "      <td>0.0</td>\n",
       "      <td>12.0</td>\n",
       "      <td>21</td>\n",
       "      <td>47</td>\n",
       "      <td>False</td>\n",
       "    </tr>\n",
       "    <tr>\n",
       "      <th>619792</th>\n",
       "      <td>4</td>\n",
       "      <td>12</td>\n",
       "      <td>802505349610555</td>\n",
       "      <td>NaN</td>\n",
       "      <td>NaN</td>\n",
       "      <td>1</td>\n",
       "      <td>NaN</td>\n",
       "      <td>40</td>\n",
       "      <td>NaN</td>\n",
       "      <td>NaN</td>\n",
       "      <td>...</td>\n",
       "      <td>716.0</td>\n",
       "      <td>0.0</td>\n",
       "      <td>0.0</td>\n",
       "      <td>0.0</td>\n",
       "      <td>0.0</td>\n",
       "      <td>0.0</td>\n",
       "      <td>NaN</td>\n",
       "      <td>20</td>\n",
       "      <td>21</td>\n",
       "      <td>True</td>\n",
       "    </tr>\n",
       "    <tr>\n",
       "      <th>619793</th>\n",
       "      <td>4</td>\n",
       "      <td>12</td>\n",
       "      <td>876944601471509</td>\n",
       "      <td>NaN</td>\n",
       "      <td>NaN</td>\n",
       "      <td>1</td>\n",
       "      <td>NaN</td>\n",
       "      <td>NaN</td>\n",
       "      <td>NaN</td>\n",
       "      <td>NaN</td>\n",
       "      <td>...</td>\n",
       "      <td>716.0</td>\n",
       "      <td>0.0</td>\n",
       "      <td>0.0</td>\n",
       "      <td>0.0</td>\n",
       "      <td>0.0</td>\n",
       "      <td>0.0</td>\n",
       "      <td>14.0</td>\n",
       "      <td>22</td>\n",
       "      <td>23</td>\n",
       "      <td>False</td>\n",
       "    </tr>\n",
       "    <tr>\n",
       "      <th>619794</th>\n",
       "      <td>4</td>\n",
       "      <td>12</td>\n",
       "      <td>905527030610215</td>\n",
       "      <td>NaN</td>\n",
       "      <td>NaN</td>\n",
       "      <td>1</td>\n",
       "      <td>NaN</td>\n",
       "      <td>40</td>\n",
       "      <td>NaN</td>\n",
       "      <td>NaN</td>\n",
       "      <td>...</td>\n",
       "      <td>716.0</td>\n",
       "      <td>0.0</td>\n",
       "      <td>0.0</td>\n",
       "      <td>0.0</td>\n",
       "      <td>0.0</td>\n",
       "      <td>0.0</td>\n",
       "      <td>13.0</td>\n",
       "      <td>19</td>\n",
       "      <td>4</td>\n",
       "      <td>True</td>\n",
       "    </tr>\n",
       "    <tr>\n",
       "      <th>619795</th>\n",
       "      <td>4</td>\n",
       "      <td>12</td>\n",
       "      <td>905527030610215</td>\n",
       "      <td>NaN</td>\n",
       "      <td>NaN</td>\n",
       "      <td>1</td>\n",
       "      <td>NaN</td>\n",
       "      <td>40</td>\n",
       "      <td>NaN</td>\n",
       "      <td>NaN</td>\n",
       "      <td>...</td>\n",
       "      <td>716.0</td>\n",
       "      <td>0.0</td>\n",
       "      <td>0.0</td>\n",
       "      <td>0.0</td>\n",
       "      <td>0.0</td>\n",
       "      <td>0.0</td>\n",
       "      <td>13.0</td>\n",
       "      <td>10</td>\n",
       "      <td>42</td>\n",
       "      <td>True</td>\n",
       "    </tr>\n",
       "  </tbody>\n",
       "</table>\n",
       "<p>619796 rows × 136 columns</p>\n",
       "</div>"
      ],
      "text/plain": [
       "        minsamp  intmonth             hhid  state  smsarank  hhnum  activlwr  \\\n",
       "0             4         1     003001221503   93.0       0.0      1       1.0   \n",
       "1             4         1     003001221503   93.0       0.0      1       1.0   \n",
       "2             4         1     003001221503   93.0       0.0      1       5.0   \n",
       "3             4         1     003001222503   93.0       0.0      1       7.0   \n",
       "4             4         1     003001222503   93.0       0.0      1       1.0   \n",
       "...         ...       ...              ...    ...       ...    ...       ...   \n",
       "619791        4        12  802505349610555    NaN       NaN      1       NaN   \n",
       "619792        4        12  802505349610555    NaN       NaN      1       NaN   \n",
       "619793        4        12  876944601471509    NaN       NaN      1       NaN   \n",
       "619794        4        12  905527030610215    NaN       NaN      1       NaN   \n",
       "619795        4        12  905527030610215    NaN       NaN      1       NaN   \n",
       "\n",
       "       hourslw reasonlw absentlw  ...     ym ch02 ch35  ch613  ch1417  ch05  \\\n",
       "0           40      NaN      NaN  ...    NaN  NaN  NaN    NaN     NaN   NaN   \n",
       "1           40      NaN      NaN  ...    NaN  NaN  NaN    NaN     NaN   NaN   \n",
       "2          NaN      NaN      NaN  ...    NaN  NaN  NaN    NaN     NaN   NaN   \n",
       "3          NaN      NaN      NaN  ...    NaN  NaN  NaN    NaN     NaN   NaN   \n",
       "4           40      NaN      NaN  ...    NaN  NaN  NaN    NaN     NaN   NaN   \n",
       "...        ...      ...      ...  ...    ...  ...  ...    ...     ...   ...   \n",
       "619791      32      NaN      NaN  ...  716.0  0.0  0.0    0.0     0.0   0.0   \n",
       "619792      40      NaN      NaN  ...  716.0  0.0  0.0    0.0     0.0   0.0   \n",
       "619793     NaN      NaN      NaN  ...  716.0  0.0  0.0    0.0     0.0   0.0   \n",
       "619794      40      NaN      NaN  ...  716.0  0.0  0.0    0.0     0.0   0.0   \n",
       "619795      40      NaN      NaN  ...  716.0  0.0  0.0    0.0     0.0   0.0   \n",
       "\n",
       "        ihigrdc  docc00  dind02 fulltime  \n",
       "0           NaN     NaN     NaN     True  \n",
       "1           NaN     NaN     NaN     True  \n",
       "2           NaN     NaN     NaN    False  \n",
       "3           NaN     NaN     NaN    False  \n",
       "4           NaN     NaN     NaN     True  \n",
       "...         ...     ...     ...      ...  \n",
       "619791     12.0      21      47    False  \n",
       "619792      NaN      20      21     True  \n",
       "619793     14.0      22      23    False  \n",
       "619794     13.0      19       4     True  \n",
       "619795     13.0      10      42     True  \n",
       "\n",
       "[619796 rows x 136 columns]"
      ]
     },
     "execution_count": 5,
     "metadata": {},
     "output_type": "execute_result"
    }
   ],
   "source": [
    "combined_df"
   ]
  },
  {
   "cell_type": "code",
   "execution_count": 6,
   "metadata": {},
   "outputs": [
    {
     "data": {
      "text/plain": [
       "0         NaN\n",
       "1         NaN\n",
       "2         NaN\n",
       "3         NaN\n",
       "4         NaN\n",
       "         ... \n",
       "619791     21\n",
       "619792     20\n",
       "619793     22\n",
       "619794     19\n",
       "619795     10\n",
       "Name: docc00, Length: 619796, dtype: object"
      ]
     },
     "execution_count": 6,
     "metadata": {},
     "output_type": "execute_result"
    }
   ],
   "source": [
    "combined_df['docc00']"
   ]
  },
  {
   "cell_type": "code",
   "execution_count": 7,
   "metadata": {},
   "outputs": [],
   "source": [
    "# Ensure boolean conditions for 'college' and 'fulltime'\n",
    "combined_df['college'] = combined_df['college'].astype(bool)\n",
    "combined_df['fulltime'] = combined_df['fulltime'].astype(bool)\n",
    "\n",
    "# Define conditions\n",
    "collgrad_fulltime = combined_df['college'] & combined_df['fulltime']\n",
    "collgrad_parttime = combined_df['college'] & ~combined_df['fulltime']\n",
    "nocollgrad_fulltime = ~combined_df['college'] & combined_df['fulltime']\n",
    "nocollgrad_parttime = ~combined_df['college'] & ~combined_df['fulltime']\n",
    "\n",
    "# Function to calculate weighted proportion\n",
    "def weighted_proportion(condition, sex, weights):\n",
    "    relevant_weights = weights[(condition) & (combined_df['sex'] == sex)]\n",
    "    total_weights = np.sum(weights[combined_df['sex'] == sex])\n",
    "    return np.sum(relevant_weights) / total_weights if total_weights > 0 else 0\n",
    "\n",
    "# Calculate proportions for males and females\n",
    "male_proportions = [weighted_proportion(cond, 1, combined_df['hrearnwt']) for cond in \n",
    "                    [collgrad_fulltime, collgrad_parttime, nocollgrad_fulltime, nocollgrad_parttime]]\n",
    "female_proportions = [weighted_proportion(cond, 2, combined_df['hrearnwt']) for cond in \n",
    "                      [collgrad_fulltime, collgrad_parttime, nocollgrad_fulltime, nocollgrad_parttime]]\n",
    "\n",
    "# Calculate adjustment factors (male proportion / female proportion)\n",
    "adjustment_factors = [male / female if female > 0 else 1 for male, female in zip(male_proportions, female_proportions)]\n",
    "\n",
    "# create new column for the dfl weights\n",
    "combined_df['dflweight'] = combined_df['hrearnwt']\n",
    "\n",
    "# Apply adjustment factors to female weights for each condition\n",
    "for i, cond in enumerate([collgrad_fulltime, collgrad_parttime, nocollgrad_fulltime, nocollgrad_parttime]):\n",
    "    combined_df.loc[cond & (combined_df['sex'] == 2), 'dflweight'] *= adjustment_factors[i]\n",
    "\n",
    "# Verify the adjustment by recalculating the proportions\n",
    "adjusted_female_proportions = [weighted_proportion(cond, 2, combined_df['dflweight']) for cond in \n",
    "                               [collgrad_fulltime, collgrad_parttime, nocollgrad_fulltime, nocollgrad_parttime]]\n",
    "\n",
    "# Now, adjusted_female_proportions should be closer to male_proportions"
   ]
  },
  {
   "cell_type": "code",
   "execution_count": 8,
   "metadata": {},
   "outputs": [
    {
     "data": {
      "text/plain": [
       "[0.29931287477303253,\n",
       " 0.009671670311376458,\n",
       " 0.6489630601764321,\n",
       " 0.0420523947391591]"
      ]
     },
     "execution_count": 8,
     "metadata": {},
     "output_type": "execute_result"
    }
   ],
   "source": [
    "male_proportions"
   ]
  },
  {
   "cell_type": "code",
   "execution_count": 9,
   "metadata": {},
   "outputs": [
    {
     "data": {
      "text/plain": [
       "[0.31841439211571787,\n",
       " 0.029608933261610824,\n",
       " 0.5423927197855192,\n",
       " 0.10958395483715201]"
      ]
     },
     "execution_count": 9,
     "metadata": {},
     "output_type": "execute_result"
    }
   ],
   "source": [
    "female_proportions"
   ]
  },
  {
   "cell_type": "code",
   "execution_count": 10,
   "metadata": {},
   "outputs": [
    {
     "data": {
      "text/plain": [
       "[0.29931287477303264,\n",
       " 0.009671670311376461,\n",
       " 0.6489630601764321,\n",
       " 0.04205239473915914]"
      ]
     },
     "execution_count": 10,
     "metadata": {},
     "output_type": "execute_result"
    }
   ],
   "source": [
    "adjusted_female_proportions"
   ]
  },
  {
   "cell_type": "code",
   "execution_count": 15,
   "metadata": {},
   "outputs": [
    {
     "name": "stdout",
     "output_type": "stream",
     "text": [
      "Num observations:  145604\n",
      "Weighted Mean:  2.8449869809509742\n",
      "Weighted Standard Deviation:  0.5632348140167462\n",
      "Weighted Variance:  0.3172334557204788\n",
      "1st percentile:  1.4722181139863721\n",
      "5th percentile:  2.045259188206525\n",
      "10th percentile:  2.145463007991118\n",
      "25th percentile:  2.3324724102238177\n",
      "50th percentile:  2.679686287212784\n",
      "75th percentile:  3.07521637406679\n",
      "90th percentile:  3.5121045824455264\n",
      "95th percentile:  3.7874735924082557\n",
      "99th percentile:  4.249901619825194\n",
      "Skewness:  0.41837765627317647\n",
      "Kurtosis:  0.5268683199161499\n",
      "Min:  0.700663856254383\n",
      "Max:  5.517552444217037\n"
     ]
    }
   ],
   "source": [
    "# get weight that matches\n",
    "# get no nans in logwage\n",
    "wage_weight = combined_df['hrearnwt']\n",
    "wage_weight = wage_weight[combined_df['logwage'].notna()]\n",
    "\n",
    "logwage = combined_df['logwage']\n",
    "logwage = logwage[combined_df['logwage'].notna()]\n",
    "\n",
    "# summarize\n",
    "summarize(logwage[combined_df['sex']==2], wage_weight[combined_df['sex']==2])"
   ]
  },
  {
   "cell_type": "code",
   "execution_count": 16,
   "metadata": {},
   "outputs": [
    {
     "name": "stdout",
     "output_type": "stream",
     "text": [
      "Num observations:  145604\n",
      "Weighted Mean:  2.8454586687740613\n",
      "Weighted Standard Deviation:  0.5464405213714058\n",
      "Weighted Variance:  0.2985972433966537\n",
      "1st percentile:  1.4722181139863721\n",
      "5th percentile:  2.045259188206525\n",
      "10th percentile:  2.145463007991118\n",
      "25th percentile:  2.3324724102238177\n",
      "50th percentile:  2.679686287212784\n",
      "75th percentile:  3.07521637406679\n",
      "90th percentile:  3.5121045824455264\n",
      "95th percentile:  3.7874735924082557\n",
      "99th percentile:  4.249901619825194\n",
      "Skewness:  0.41837765627317647\n",
      "Kurtosis:  0.5268683199161499\n",
      "Min:  0.700663856254383\n",
      "Max:  5.517552444217037\n"
     ]
    }
   ],
   "source": [
    "# get weight that matches\n",
    "# get no nans in logwage\n",
    "wage_weight = combined_df['dflweight']\n",
    "wage_weight = wage_weight[combined_df['logwage'].notna()]\n",
    "\n",
    "logwage = combined_df['logwage']\n",
    "logwage = logwage[combined_df['logwage'].notna()]\n",
    "\n",
    "# summarize\n",
    "summarize(logwage[combined_df['sex']==2], wage_weight[combined_df['sex']==2])"
   ]
  },
  {
   "cell_type": "code",
   "execution_count": null,
   "metadata": {},
   "outputs": [],
   "source": [
    "# X_cols = ['bin_age', 'bin_educ'] # make into bins and leave one out\n",
    "X_cols = ['age', 'educ']\n",
    "y_col = 'sex'\n",
    "w_col = 'hrearnwt'\n",
    "X, y, w, df_cond = prepare_data(combined_df, None, X_cols, y_col, w_col, return_dataframe=True)\n",
    "y = np.where(y == 2, 0, 1) # male is 1, female is 0. # whatever is 0 gets reweighted"
   ]
  },
  {
   "cell_type": "code",
   "execution_count": null,
   "metadata": {},
   "outputs": [
    {
     "name": "stdout",
     "output_type": "stream",
     "text": [
      "Weighted Logit Model Summary (GLM):\n",
      "                 Generalized Linear Model Regression Results                  \n",
      "==============================================================================\n",
      "Dep. Variable:                      y   No. Observations:               619796\n",
      "Model:                            GLM   Df Residuals:                   619794\n",
      "Model Family:                Binomial   Df Model:                            1\n",
      "Link Function:                  Logit   Scale:                          1.0000\n",
      "Method:                          IRLS   Log-Likelihood:            -6.9526e+10\n",
      "Date:                Sun, 25 Feb 2024   Deviance:                   1.3905e+11\n",
      "Time:                        22:34:46   Pearson chi2:                 1.01e+11\n",
      "No. Iterations:                     5   Pseudo R-squ. (CS):        -1.090e+144\n",
      "Covariance Type:            nonrobust                                         \n",
      "==============================================================================\n",
      "                 coef    std err          z      P>|z|      [0.025      0.975]\n",
      "------------------------------------------------------------------------------\n",
      "age            0.0057   3.99e-07   1.43e+04      0.000       0.006       0.006\n",
      "educ           0.0006   1.21e-06    459.229      0.000       0.001       0.001\n",
      "==============================================================================\n",
      "Marginal Effects - Weighted Logit Model:\n",
      "{'age': 0.001397343463905346, 'educ': 0.0001365308200829828}\n"
     ]
    }
   ],
   "source": [
    "w_new, Psi_x = run_DFL(X, y, w)"
   ]
  },
  {
   "cell_type": "code",
   "execution_count": null,
   "metadata": {},
   "outputs": [
    {
     "name": "stdout",
     "output_type": "stream",
     "text": [
      "                            WLS Regression Results                            \n",
      "==============================================================================\n",
      "Dep. Variable:                      y   R-squared:                       0.005\n",
      "Model:                            WLS   Adj. R-squared:                  0.005\n",
      "Method:                 Least Squares   F-statistic:                     534.8\n",
      "Date:                Sun, 25 Feb 2024   Prob (F-statistic):          8.59e-233\n",
      "Time:                        22:34:46   Log-Likelihood:                   -inf\n",
      "No. Observations:              619796   AIC:                               inf\n",
      "Df Residuals:                  619793   BIC:                               inf\n",
      "Df Model:                           2                                         \n",
      "Covariance Type:                  HC1                                         \n",
      "==============================================================================\n",
      "                 coef    std err          t      P>|t|      [0.025      0.975]\n",
      "------------------------------------------------------------------------------\n",
      "const          0.7318      0.006    125.799      0.000       0.720       0.743\n",
      "age        -4.131e-05   7.48e-05     -0.552      0.581      -0.000       0.000\n",
      "educ          -0.0122      0.000    -32.698      0.000      -0.013      -0.011\n",
      "==============================================================================\n",
      "Omnibus:                     9734.458   Durbin-Watson:                   2.399\n",
      "Prob(Omnibus):                  0.000   Jarque-Bera (JB):            10200.808\n",
      "Skew:                          -0.314   Prob(JB):                         0.00\n",
      "Kurtosis:                       3.019   Cond. No.                         251.\n",
      "==============================================================================\n",
      "\n",
      "Notes:\n",
      "[1] Standard Errors are heteroscedasticity robust (HC1)\n"
     ]
    },
    {
     "name": "stderr",
     "output_type": "stream",
     "text": [
      "/Users/oscarscholin/anaconda3/lib/python3.11/site-packages/statsmodels/regression/linear_model.py:807: RuntimeWarning: divide by zero encountered in log\n",
      "  llf += 0.5 * np.sum(np.log(self.weights))\n"
     ]
    },
    {
     "data": {
      "text/plain": [
       "<statsmodels.regression.linear_model.RegressionResults at 0x312a09950>"
      ]
     },
     "execution_count": 15,
     "metadata": {},
     "output_type": "execute_result"
    }
   ],
   "source": [
    "run_WLS(X, y, w)"
   ]
  },
  {
   "cell_type": "code",
   "execution_count": null,
   "metadata": {},
   "outputs": [
    {
     "name": "stdout",
     "output_type": "stream",
     "text": [
      "Num observations:  619796\n",
      "Mean:  161860.64592335795\n",
      "Median:  21002.567643390073\n",
      "Standard Deviation:  223303.35316432835\n",
      "Variance:  49864387534.43275\n",
      "1st percentile:  0.0\n",
      "5th percentile:  0.0\n",
      "10th percentile:  0.0\n",
      "25th percentile:  0.0\n",
      "50th percentile:  21002.567643390073\n",
      "75th percentile:  275321.6353081503\n",
      "90th percentile:  512447.2975792452\n",
      "95th percentile:  633734.077\n",
      "99th percentile:  861832.4035584098\n",
      "Skewness:  1.5851354457154851\n",
      "Kurtosis:  2.744595763583294\n",
      "Min:  0.0\n",
      "Max:  3120656.1659999997\n"
     ]
    }
   ],
   "source": [
    "summarize(w_new)"
   ]
  },
  {
   "cell_type": "code",
   "execution_count": null,
   "metadata": {},
   "outputs": [
    {
     "name": "stdout",
     "output_type": "stream",
     "text": [
      "Num observations:  619796\n",
      "Mean:  163627.08643388582\n",
      "Median:  21825.2001953125\n",
      "Standard Deviation:  224973.5688484167\n",
      "Variance:  50613106680.39329\n",
      "1st percentile:  0.0\n",
      "5th percentile:  0.0\n",
      "10th percentile:  0.0\n",
      "25th percentile:  0.0\n",
      "50th percentile:  21825.2001953125\n",
      "75th percentile:  279614.8046875\n",
      "90th percentile:  514066.5522\n",
      "95th percentile:  636822.681625\n",
      "99th percentile:  870190.2958500066\n",
      "Skewness:  1.579701464311216\n",
      "Kurtosis:  2.7614404747950676\n",
      "Min:  0.0\n",
      "Max:  3120656.1659999997\n"
     ]
    }
   ],
   "source": [
    "summarize(w)"
   ]
  },
  {
   "cell_type": "code",
   "execution_count": null,
   "metadata": {},
   "outputs": [],
   "source": [
    "combined_df['dfl_weight'] = w_new"
   ]
  },
  {
   "cell_type": "code",
   "execution_count": null,
   "metadata": {},
   "outputs": [
    {
     "data": {
      "text/plain": [
       "0         282229.609375\n",
       "1         254949.117075\n",
       "2              0.000000\n",
       "3              0.000000\n",
       "4         286780.868168\n",
       "              ...      \n",
       "619791         0.000000\n",
       "619792     58052.112000\n",
       "619793         0.000000\n",
       "619794     61429.452000\n",
       "619795     54417.811873\n",
       "Name: dfl_weight, Length: 619796, dtype: float64"
      ]
     },
     "execution_count": 19,
     "metadata": {},
     "output_type": "execute_result"
    }
   ],
   "source": [
    "combined_df['dfl_weight']"
   ]
  },
  {
   "cell_type": "code",
   "execution_count": null,
   "metadata": {},
   "outputs": [],
   "source": [
    "X, y, w = prepare_data(combined_df, (combined_df['sex']==2), ['educ'], 'realhrwage', 'hrearnwt')"
   ]
  },
  {
   "cell_type": "code",
   "execution_count": null,
   "metadata": {},
   "outputs": [
    {
     "name": "stdout",
     "output_type": "stream",
     "text": [
      "Num observations:  326261\n",
      "Weighted Mean:  20.334743399277826\n",
      "Weighted Standard Deviation:  13.233246699352735\n",
      "Weighted Variance:  175.11881820593007\n",
      "1st percentile:  0.0\n",
      "5th percentile:  0.0\n",
      "10th percentile:  0.0\n",
      "25th percentile:  0.0\n",
      "50th percentile:  0.0\n",
      "75th percentile:  13.36774848426655\n",
      "90th percentile:  22.94409398692054\n",
      "95th percentile:  31.761229429318504\n",
      "99th percentile:  57.38818103885053\n",
      "Skewness:  2.650730664987674\n",
      "Kurtosis:  14.638643699737477\n",
      "Min:  0.0\n",
      "Max:  249.02478862413528\n"
     ]
    }
   ],
   "source": [
    "summarize(y, w)"
   ]
  },
  {
   "cell_type": "code",
   "execution_count": null,
   "metadata": {},
   "outputs": [],
   "source": [
    "X, y, w = prepare_data(combined_df, (combined_df['sex']==2), ['educ'], 'realhrwage', 'dfl_weight')"
   ]
  },
  {
   "cell_type": "code",
   "execution_count": null,
   "metadata": {},
   "outputs": [
    {
     "name": "stdout",
     "output_type": "stream",
     "text": [
      "Num observations:  326261\n",
      "Weighted Mean:  20.55338217193446\n",
      "Weighted Standard Deviation:  13.355921766391885\n",
      "Weighted Variance:  178.38064622998053\n",
      "1st percentile:  0.0\n",
      "5th percentile:  0.0\n",
      "10th percentile:  0.0\n",
      "25th percentile:  0.0\n",
      "50th percentile:  0.0\n",
      "75th percentile:  13.36774848426655\n",
      "90th percentile:  22.94409398692054\n",
      "95th percentile:  31.761229429318504\n",
      "99th percentile:  57.38818103885053\n",
      "Skewness:  2.650730664987674\n",
      "Kurtosis:  14.638643699737477\n",
      "Min:  0.0\n",
      "Max:  249.02478862413528\n"
     ]
    }
   ],
   "source": [
    "summarize(y, w)"
   ]
  },
  {
   "cell_type": "code",
   "execution_count": null,
   "metadata": {},
   "outputs": [],
   "source": [
    "X, y, w = prepare_data(combined_df, combined_df['sex']==1, ['educ'], 'realhrwage', 'hrearnwt')"
   ]
  },
  {
   "cell_type": "code",
   "execution_count": null,
   "metadata": {},
   "outputs": [
    {
     "name": "stdout",
     "output_type": "stream",
     "text": [
      "Num observations:  293535\n",
      "Weighted Mean:  25.083569299126186\n",
      "Weighted Standard Deviation:  14.79796511183094\n",
      "Weighted Variance:  218.9797714509657\n",
      "1st percentile:  0.0\n",
      "5th percentile:  0.0\n",
      "10th percentile:  0.0\n",
      "25th percentile:  0.0\n",
      "50th percentile:  10.353804283516743\n",
      "75th percentile:  22.105118403778263\n",
      "90th percentile:  34.2571236830284\n",
      "95th percentile:  45.084876586550855\n",
      "99th percentile:  70.09851570321841\n",
      "Skewness:  1.6840813940376371\n",
      "Kurtosis:  6.195857052186778\n",
      "Min:  0.0\n",
      "Max:  249.39232594478847\n"
     ]
    }
   ],
   "source": [
    "summarize(y, w)"
   ]
  },
  {
   "cell_type": "code",
   "execution_count": null,
   "metadata": {},
   "outputs": [],
   "source": [
    "X, y, w = prepare_data(combined_df, combined_df['sex']==1, ['educ'], 'realhrwage', 'dfl_weight')"
   ]
  },
  {
   "cell_type": "code",
   "execution_count": null,
   "metadata": {},
   "outputs": [
    {
     "name": "stdout",
     "output_type": "stream",
     "text": [
      "Num observations:  293535\n",
      "Weighted Mean:  25.083569299126186\n",
      "Weighted Standard Deviation:  14.79796511183094\n",
      "Weighted Variance:  218.9797714509657\n",
      "1st percentile:  0.0\n",
      "5th percentile:  0.0\n",
      "10th percentile:  0.0\n",
      "25th percentile:  0.0\n",
      "50th percentile:  10.353804283516743\n",
      "75th percentile:  22.105118403778263\n",
      "90th percentile:  34.2571236830284\n",
      "95th percentile:  45.084876586550855\n",
      "99th percentile:  70.09851570321841\n",
      "Skewness:  1.6840813940376371\n",
      "Kurtosis:  6.195857052186778\n",
      "Min:  0.0\n",
      "Max:  249.39232594478847\n"
     ]
    }
   ],
   "source": [
    "summarize(y, w)"
   ]
  },
  {
   "cell_type": "code",
   "execution_count": null,
   "metadata": {},
   "outputs": [],
   "source": []
  }
 ],
 "metadata": {
  "kernelspec": {
   "display_name": "base",
   "language": "python",
   "name": "python3"
  },
  "language_info": {
   "codemirror_mode": {
    "name": "ipython",
    "version": 3
   },
   "file_extension": ".py",
   "mimetype": "text/x-python",
   "name": "python",
   "nbconvert_exporter": "python",
   "pygments_lexer": "ipython3",
   "version": "3.11.5"
  }
 },
 "nbformat": 4,
 "nbformat_minor": 2
}
